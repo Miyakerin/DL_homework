{
  "cells": [
    {
      "cell_type": "code",
      "execution_count": null,
      "metadata": {
        "colab": {
          "base_uri": "https://localhost:8080/"
        },
        "id": "zKMq7dp2W15Y",
        "outputId": "a8bd3894-ae31-4555-a639-11732746be55"
      },
      "outputs": [
        {
          "output_type": "stream",
          "name": "stderr",
          "text": [
            "[nltk_data] Downloading package punkt to /root/nltk_data...\n",
            "[nltk_data]   Unzipping tokenizers/punkt.zip.\n"
          ]
        }
      ],
      "source": [
        "import re\n",
        "import nltk\n",
        "\n",
        "import torch\n",
        "from torch.utils.data import Dataset, DataLoader\n",
        "import torch.nn as nn\n",
        "import torch.optim as optim\n",
        "\n",
        "import pandas as pd\n",
        "from sklearn.model_selection import train_test_split\n",
        "from sklearn.metrics import accuracy_score\n",
        "from nltk.tokenize import word_tokenize\n",
        "from sklearn.preprocessing import LabelEncoder\n",
        "nltk.download('punkt')\n",
        "\n",
        "from itertools import chain\n",
        "import numpy as np\n",
        "import random\n"
      ]
    },
    {
      "cell_type": "markdown",
      "source": [
        "##приколы"
      ],
      "metadata": {
        "id": "ZxxvKBEzZj_c"
      }
    },
    {
      "cell_type": "code",
      "execution_count": null,
      "metadata": {
        "id": "hBkqaK5bawXN"
      },
      "outputs": [],
      "source": [
        "class EarlyStopping():\n",
        "  def __init__(self, min_delta=0.001, tolerance=20):\n",
        "    self.tolerance = tolerance\n",
        "    self.min_delta = min_delta\n",
        "    self.counter = 0\n",
        "    self.flag = False\n",
        "    self.min_loss = 1000\n",
        "\n",
        "  def __call__(self, val_loss):\n",
        "    if (val_loss - self.min_loss) > self.min_delta:\n",
        "      self.counter += 1\n",
        "      print(f'counter = {self.counter}')\n",
        "      if self.counter >= self.tolerance:\n",
        "        self.flag = True\n",
        "    self.min_loss = val_loss if val_loss < self.min_loss else self.min_loss"
      ]
    },
    {
      "cell_type": "code",
      "source": [
        "def train_one_epoch(model, train_dataloader, loss_func, optimizer, device):\n",
        "  model.train()\n",
        "  epoch_loss = []\n",
        "  for (local_batch, local_label) in train_dataloader:\n",
        "    (local_batch, local_label) = (local_batch.to(device), local_label.to(device))\n",
        "    optimizer.zero_grad()\n",
        "    y_pred = model.forward(local_batch)\n",
        "    curr_loss = criterion.forward(y_pred, local_label)\n",
        "    curr_loss.backward()\n",
        "    optimizer.step()\n",
        "    epoch_loss.append(curr_loss.item())\n",
        "  return np.mean(epoch_loss)\n",
        "\n",
        "#use with torch.no_grad()\n",
        "def val_one_epoch(model, val_dataloader, loss_func, device):\n",
        "  model.eval()\n",
        "  epoch_loss = []\n",
        "  for (local_batch, local_label) in val_dataloader:\n",
        "    (local_batch, local_label) = (local_batch.to(device), local_label.to(device))\n",
        "    y_pred = model.forward(local_batch)\n",
        "    curr_loss = criterion.forward(y_pred, local_label)\n",
        "    epoch_loss.append(curr_loss.item())\n",
        "  return np.mean(epoch_loss)\n",
        "\n",
        "def test_model(model, test_dataloader, device, classes):\n",
        "  model.eval()\n",
        "  test_hits = 0\n",
        "  total = 0\n",
        "  confusion_matrix = torch.zeros(len(classes), len(classes))\n",
        "  for (local_batch, local_label) in test_dataloader:\n",
        "    (local_batch, local_label) = (local_batch.to(device), local_label.to(device))\n",
        "    y_pred = model.forward(local_batch)\n",
        "    _, preds = torch.max(y_pred, 1)\n",
        "    test_hits += torch.sum(preds.view(-1) == local_label.view(-1))\n",
        "    total += torch.numel(preds.view(-1))\n",
        "    for t, p in zip(local_label.view(-1), preds.view(-1)):\n",
        "        confusion_matrix[t.long(), p.long()] += 1\n",
        "  return confusion_matrix, test_hits, total"
      ],
      "metadata": {
        "id": "VObTPHEwPOqN"
      },
      "execution_count": null,
      "outputs": []
    },
    {
      "cell_type": "markdown",
      "metadata": {
        "id": "Jm-QilGISxkt"
      },
      "source": [
        "## 1. Классификация фамилий (RNN)\n",
        "\n",
        "Датасет: https://disk.yandex.ru/d/frNchuaBQVLxyA?w=1"
      ]
    },
    {
      "cell_type": "markdown",
      "source": [
        "### датасет"
      ],
      "metadata": {
        "id": "Xg5vY2i3Otbm"
      }
    },
    {
      "cell_type": "code",
      "source": [
        "class Vocab:\n",
        "    def __init__(self, data:list, spec_symb=True, start=0): # data - list of tokens\n",
        "        self.create_tokens_set(data)\n",
        "\n",
        "        self.idx_to_token = {i+start: v for i,v in enumerate(self.tokens)}\n",
        "\n",
        "        self.token_to_idx = {v: i+start for i,v in enumerate(self.tokens)}\n",
        "\n",
        "        if spec_symb and start>0:\n",
        "            self.idx_to_token[0] = '<PAD>'\n",
        "            self.token_to_idx['<PAD>'] = 0\n",
        "\n",
        "    def create_tokens_set(self, data):\n",
        "        self.tokens = list(set(data))\n",
        "\n",
        "    def __len__(self):\n",
        "        return len(self.token_to_idx)"
      ],
      "metadata": {
        "id": "E9UdBPTrOsUC"
      },
      "execution_count": null,
      "outputs": []
    },
    {
      "cell_type": "code",
      "source": [
        "class SurnamesDataset(torch.utils.data.Dataset):\n",
        "    def __init__(self, path, uni_vec=False):\n",
        "        self.load_df(path)\n",
        "        self.preprocess_df()\n",
        "        self.sur_vocab = Vocab(list(chain.from_iterable([[x for x in word] for word in self.df['surname'].tolist()])), spec_symb=True, start=1)\n",
        "        self.nat_vocab = Vocab(self.df['nationality'].tolist(), spec_symb=False, start=0)\n",
        "\n",
        "        self.df['len'] = self.df.surname.map(len)\n",
        "        self.max_seq_len = self.df['len'].max()\n",
        "\n",
        "        self.X = self.df['surname'].tolist()\n",
        "        self.y = self.df['nationality'].tolist()\n",
        "        self.uni_vec = uni_vec\n",
        "\n",
        "    def pad_features(self, target, max_len):\n",
        "        diff = max_len - len(target)\n",
        "        for i in range(diff):\n",
        "            target.append(0)\n",
        "        return torch.tensor(target)\n",
        "\n",
        "\n",
        "    def preprocess_df(self):\n",
        "        self.df['surname'] = self.df['surname'].str.lower()\n",
        "        self.df['nationality'] = self.df['nationality'].str.lower()\n",
        "\n",
        "    def load_df(self, path):\n",
        "        self.df = pd.read_csv(path)\n",
        "\n",
        "    def create_idx_vec(self, sent): #sent: list, list of tokens\n",
        "        new_seq = [self.sur_vocab.token_to_idx[item] for item in sent]\n",
        "        return new_seq\n",
        "\n",
        "    def create_uni_vec(self, sent):\n",
        "        new_seq = torch.stack([torch.tensor([1 if token == sample else 0 for token in self.sur_vocab.idx_to_token.keys()]) for sample in sent])\n",
        "        return new_seq\n",
        "\n",
        "    def __len__(self):\n",
        "        return len(self.X)\n",
        "\n",
        "    def __getitem__(self, idx):\n",
        "        if self.uni_vec:\n",
        "            return self.create_uni_vec(self.pad_features(self.create_idx_vec(self.X[idx]), self.max_seq_len).tolist()), self.nat_vocab.token_to_idx[self.y[idx]]\n",
        "        return self.pad_features(self.create_idx_vec(self.X[idx]), self.max_seq_len), self.nat_vocab.token_to_idx[self.y[idx]]"
      ],
      "metadata": {
        "id": "MgG2XFiNNfs_"
      },
      "execution_count": null,
      "outputs": []
    },
    {
      "cell_type": "code",
      "source": [
        "path = r'/content/surnames.csv'"
      ],
      "metadata": {
        "id": "OeL8nxkBZiIq"
      },
      "execution_count": null,
      "outputs": []
    },
    {
      "cell_type": "code",
      "source": [
        "dataset = SurnamesDataset(path, uni_vec=False)"
      ],
      "metadata": {
        "id": "61AJh1byZiIv"
      },
      "execution_count": null,
      "outputs": []
    },
    {
      "cell_type": "code",
      "source": [
        "BATCH_SIZE = 100\n",
        "INIT_LR = 1e-3\n",
        "EPOCH = 150\n",
        "device = \"cuda\" if torch.cuda.is_available() else \"cpu\"\n",
        "torch.cuda.empty_cache() if device == 'cuda' else None"
      ],
      "metadata": {
        "id": "bm16-5eMZiIw"
      },
      "execution_count": null,
      "outputs": []
    },
    {
      "cell_type": "code",
      "source": [
        "trainSize = int(0.8*len(dataset))\n",
        "valSize = int(0.1*len(dataset))\n",
        "testSize = len(dataset) - trainSize - valSize\n",
        "train_dataset, val_dataset, test_dataset = torch.utils.data.random_split(dataset, [trainSize, valSize, testSize])"
      ],
      "metadata": {
        "id": "3dkvw8AXZiIw"
      },
      "execution_count": null,
      "outputs": []
    },
    {
      "cell_type": "code",
      "source": [
        "trainLoader = torch.utils.data.DataLoader(train_dataset, batch_size=BATCH_SIZE, shuffle=True, pin_memory=True, num_workers = 0)\n",
        "valLoader = torch.utils.data.DataLoader(val_dataset, batch_size=BATCH_SIZE, shuffle=True, pin_memory=True, num_workers = 0)\n",
        "testLoader = torch.utils.data.DataLoader(test_dataset, batch_size=BATCH_SIZE, shuffle=False, pin_memory=True, num_workers = 0)"
      ],
      "metadata": {
        "id": "rPShxxNRZiIw"
      },
      "execution_count": null,
      "outputs": []
    },
    {
      "cell_type": "code",
      "source": [
        "in_size = len(dataset.sur_vocab)\n",
        "out_size = len(dataset.nat_vocab)\n",
        "print(f'in = {in_size}, out = {out_size}')"
      ],
      "metadata": {
        "colab": {
          "base_uri": "https://localhost:8080/"
        },
        "outputId": "97efeda1-73ad-4bc4-f1b4-f97984b65927",
        "id": "9wLwjYK3ZiIw"
      },
      "execution_count": null,
      "outputs": [
        {
          "output_type": "stream",
          "name": "stdout",
          "text": [
            "in = 56, out = 18\n"
          ]
        }
      ]
    },
    {
      "cell_type": "markdown",
      "metadata": {
        "id": "YdPr92i6k-If"
      },
      "source": [
        "### 1.1 Используя класс `nn.RNNCell` (абстракцию для отдельного временного шага RNN), реализуйте простейшую рекуррентную сеть Элмана в виде класса `RNN`. Используя созданный класс `RNN`, решите задачу классификации фамилий.\n"
      ]
    },
    {
      "cell_type": "code",
      "execution_count": null,
      "metadata": {
        "id": "ir6UUkl6l4tp"
      },
      "outputs": [],
      "source": [
        "class RNN(nn.Module):\n",
        "    def __init__(self, input_size, hidden_size):\n",
        "        super(RNN, self).__init__()\n",
        "        self.input_size = input_size\n",
        "        self.hidden_size = hidden_size\n",
        "        self.rnn_cell = nn.RNNCell(self.input_size, self.hidden_size)\n",
        "\n",
        "    def forward(self, x: torch.Tensor, hx: torch.Tensor = None):\n",
        "        '''\n",
        "        x.shape = (batch_size, seq_len, feature_size) - тензор входных данных\n",
        "        h.shape = (batch_size, hidden_size) - тензор со скрытым состоянием RNN\n",
        "        '''\n",
        "        batch_size, seq_size, _ = x.shape\n",
        "        x = x.permute(1, 0, 2)\n",
        "        if hx:\n",
        "            self.hx = hx.squeeze(0)\n",
        "        else:\n",
        "            self.hx = torch.zeros((batch_size, self.hidden_size)).to(*self.args, **self.kwargs)\n",
        "\n",
        "        hid = []\n",
        "        for i in range(seq_size):\n",
        "            self.hx = self.rnn_cell(x[i], self.hx)\n",
        "            hid.append(self.hx)\n",
        "\n",
        "        hid = torch.stack(hid)\n",
        "        self.hx = hid[-1].unsqueeze(0)\n",
        "        return hid.permute(1, 0, 2), self.hx\n",
        "\n",
        "    def to(self, *args, **kwargs):\n",
        "        self = super().to(*args, **kwargs)\n",
        "        self.rnn_cell = self.rnn_cell.to(*args, **kwargs)\n",
        "        self.args, self.kwargs = args, kwargs\n",
        "        return self\n",
        "\n"
      ]
    },
    {
      "cell_type": "code",
      "source": [
        "class GetFeaturesFromRNN(torch.nn.Module):\n",
        "    def forward(self, x):\n",
        "        x, _ = x\n",
        "        if len(x.shape) == 3:\n",
        "            return x[:, -1, :]\n",
        "        elif len(x.shape) == 2:\n",
        "            return x[:, -1]"
      ],
      "metadata": {
        "id": "Hf6tpdI8Ocdr"
      },
      "execution_count": null,
      "outputs": []
    },
    {
      "cell_type": "code",
      "source": [
        "class Model(torch.nn.Module):\n",
        "    def __init__(self, input_size, output_size): #input_size - len of rev dict\n",
        "        super(Model, self).__init__()\n",
        "        self.features = nn.Sequential(\n",
        "            nn.Embedding(input_size, embedding_dim=20, padding_idx=0),\n",
        "            nn.Dropout(0.25),\n",
        "            RNN(20, 100),\n",
        "            GetFeaturesFromRNN(),\n",
        "            nn.ReLU(),\n",
        "            nn.Dropout(0.25),\n",
        "\n",
        "        )\n",
        "        self.classificator = nn.Sequential(\n",
        "            nn.Linear(in_features=100, out_features=output_size),\n",
        "            nn.LogSoftmax()\n",
        "        )\n",
        "\n",
        "    def forward(self, x):\n",
        "        x = self.features.forward(x)\n",
        "        x = torch.flatten(x, 1)\n",
        "        x = self.classificator.forward(x)\n",
        "        return x\n",
        "\n",
        "    def to(self, *args, **kwargs):\n",
        "        self = super().to(*args, **kwargs)\n",
        "        self.features[2] = self.features[2].to(*args, **kwargs)\n",
        "        return self"
      ],
      "metadata": {
        "id": "av9LOKyOMzpM"
      },
      "execution_count": null,
      "outputs": []
    },
    {
      "cell_type": "code",
      "source": [
        "model = Model(in_size, out_size)\n",
        "model.to(device)\n",
        "print(f'кол-во параметров в модели = {sum(p.numel() for p in model.parameters() if p.requires_grad)}')"
      ],
      "metadata": {
        "colab": {
          "base_uri": "https://localhost:8080/"
        },
        "id": "zQIfgMb3PCRk",
        "outputId": "f8d94254-cae6-448f-9c7b-05d60e104751"
      },
      "execution_count": null,
      "outputs": [
        {
          "output_type": "stream",
          "name": "stdout",
          "text": [
            "кол-во параметров в модели = 15138\n"
          ]
        }
      ]
    },
    {
      "cell_type": "code",
      "source": [
        "next(model.parameters()).is_cuda"
      ],
      "metadata": {
        "colab": {
          "base_uri": "https://localhost:8080/"
        },
        "id": "qbWnnY_TPE1D",
        "outputId": "61ce4164-de4d-4541-a819-b81e048cda44"
      },
      "execution_count": null,
      "outputs": [
        {
          "output_type": "execute_result",
          "data": {
            "text/plain": [
              "True"
            ]
          },
          "metadata": {},
          "execution_count": 19
        }
      ]
    },
    {
      "cell_type": "code",
      "source": [
        "criterion = torch.nn.CrossEntropyLoss()\n",
        "optimizer = torch.optim.Adam(\n",
        "    model.parameters(),\n",
        "    lr=INIT_LR,\n",
        ")\n",
        "early_stopping = EarlyStopping(min_delta=0.005, tolerance=10)"
      ],
      "metadata": {
        "id": "mmRwcnYRPG-I"
      },
      "execution_count": null,
      "outputs": []
    },
    {
      "cell_type": "code",
      "source": [
        "train_loss = []\n",
        "val_loss = []\n",
        "for epoch in range(EPOCH):\n",
        "    print(f'epoch = {epoch}, ', end=\"\")\n",
        "    epoch_train_loss = train_one_epoch(model, trainLoader, criterion, optimizer, device)\n",
        "    train_loss.append(epoch_train_loss)\n",
        "\n",
        "    with torch.no_grad():\n",
        "        epoch_val_loss = val_one_epoch(model, valLoader, criterion, device)\n",
        "        val_loss.append(epoch_val_loss)\n",
        "\n",
        "    early_stopping(epoch_val_loss)\n",
        "    if early_stopping.flag:\n",
        "        print(f'early stop at epoch №{epoch}')\n",
        "        break\n",
        "torch.cuda.empty_cache() if device == 'cuda' else None"
      ],
      "metadata": {
        "colab": {
          "base_uri": "https://localhost:8080/"
        },
        "id": "9mCskClOPNVU",
        "outputId": "80b7b618-d90b-4db3-9095-a5f84ebfdb64"
      },
      "execution_count": null,
      "outputs": [
        {
          "output_type": "stream",
          "name": "stdout",
          "text": [
            "epoch = 0, "
          ]
        },
        {
          "output_type": "stream",
          "name": "stderr",
          "text": [
            "/usr/local/lib/python3.10/dist-packages/torch/nn/modules/module.py:1518: UserWarning: Implicit dimension choice for log_softmax has been deprecated. Change the call to include dim=X as an argument.\n",
            "  return self._call_impl(*args, **kwargs)\n"
          ]
        },
        {
          "output_type": "stream",
          "name": "stdout",
          "text": [
            "epoch = 1, epoch = 2, epoch = 3, epoch = 4, epoch = 5, epoch = 6, counter = 1\n",
            "epoch = 7, epoch = 8, epoch = 9, epoch = 10, epoch = 11, counter = 2\n",
            "epoch = 12, epoch = 13, epoch = 14, epoch = 15, epoch = 16, epoch = 17, epoch = 18, epoch = 19, epoch = 20, epoch = 21, epoch = 22, epoch = 23, epoch = 24, epoch = 25, epoch = 26, epoch = 27, epoch = 28, epoch = 29, epoch = 30, epoch = 31, epoch = 32, epoch = 33, epoch = 34, epoch = 35, epoch = 36, epoch = 37, epoch = 38, epoch = 39, counter = 3\n",
            "epoch = 40, epoch = 41, epoch = 42, epoch = 43, counter = 4\n",
            "epoch = 44, epoch = 45, epoch = 46, epoch = 47, epoch = 48, epoch = 49, epoch = 50, epoch = 51, counter = 5\n",
            "epoch = 52, counter = 6\n",
            "epoch = 53, counter = 7\n",
            "epoch = 54, epoch = 55, counter = 8\n",
            "epoch = 56, counter = 9\n",
            "epoch = 57, counter = 10\n",
            "early stop at epoch №57\n"
          ]
        }
      ]
    },
    {
      "cell_type": "code",
      "source": [
        "df = pd.DataFrame({'val_loss': [np.mean(x) for x in val_loss], 'train_loss': [np.mean(x) for x in train_loss]})\n",
        "df.plot(kind='line')"
      ],
      "metadata": {
        "colab": {
          "base_uri": "https://localhost:8080/",
          "height": 448
        },
        "id": "aU3so7rzY03-",
        "outputId": "3e8a13d7-38bf-4338-c69e-49cbce41f0d6"
      },
      "execution_count": null,
      "outputs": [
        {
          "output_type": "execute_result",
          "data": {
            "text/plain": [
              "<Axes: >"
            ]
          },
          "metadata": {},
          "execution_count": 22
        },
        {
          "output_type": "display_data",
          "data": {
            "text/plain": [
              "<Figure size 640x480 with 1 Axes>"
            ],
            "image/png": "[encoded data removed]"
          },
          "metadata": {}
        }
      ]
    },
    {
      "cell_type": "code",
      "source": [
        "with torch.no_grad():\n",
        "    test_data = test_model(model, testLoader, device, dataset.nat_vocab)\n",
        "torch.cuda.empty_cache() if device == 'cuda' else None"
      ],
      "metadata": {
        "id": "BdF5iQqWY2NZ"
      },
      "execution_count": null,
      "outputs": []
    },
    {
      "cell_type": "code",
      "source": [
        "overall_accuracy = test_data[1].item()/test_data[2]\n",
        "print(f'overall acc = {round(overall_accuracy*100,2)}%')"
      ],
      "metadata": {
        "colab": {
          "base_uri": "https://localhost:8080/"
        },
        "id": "-kxMiU_RY3cr",
        "outputId": "ae1ca348-cf35-4576-8e1c-578a68c84e5d"
      },
      "execution_count": null,
      "outputs": [
        {
          "output_type": "stream",
          "name": "stdout",
          "text": [
            "overall acc = 71.04%\n"
          ]
        }
      ]
    },
    {
      "cell_type": "code",
      "source": [
        "from seaborn import heatmap\n",
        "heatmap(test_data[0])"
      ],
      "metadata": {
        "colab": {
          "base_uri": "https://localhost:8080/",
          "height": 447
        },
        "id": "t4SCIHyfY4Xn",
        "outputId": "c5d497cb-bcb8-42d5-f26c-0218af5c5f28"
      },
      "execution_count": null,
      "outputs": [
        {
          "output_type": "execute_result",
          "data": {
            "text/plain": [
              "<Axes: >"
            ]
          },
          "metadata": {},
          "execution_count": 29
        },
        {
          "output_type": "display_data",
          "data": {
            "text/plain": [
              "<Figure size 640x480 with 2 Axes>"
            ],
            "image/png": "[encoded data removed]"
          },
          "metadata": {}
        }
      ]
    },
    {
      "cell_type": "code",
      "source": [
        "students = ['Alueva', 'Sultonov', 'Mikhailenko']\n",
        "students = [dataset.pad_features(dataset.create_idx_vec(x.lower()), dataset.max_seq_len) for x in students]\n",
        "students = torch.stack(students).to(device)\n",
        "\n",
        "preds = model.forward(students)"
      ],
      "metadata": {
        "colab": {
          "base_uri": "https://localhost:8080/"
        },
        "id": "u1DSu7ZTY6Nx",
        "outputId": "8fd95449-4a78-49a5-f06b-f98c3e753292"
      },
      "execution_count": null,
      "outputs": [
        {
          "output_type": "stream",
          "name": "stderr",
          "text": [
            "/usr/local/lib/python3.10/dist-packages/torch/nn/modules/module.py:1518: UserWarning: Implicit dimension choice for log_softmax has been deprecated. Change the call to include dim=X as an argument.\n",
            "  return self._call_impl(*args, **kwargs)\n"
          ]
        }
      ]
    },
    {
      "cell_type": "code",
      "source": [
        "_, preds = torch.topk(preds, 3)\n",
        "preds"
      ],
      "metadata": {
        "colab": {
          "base_uri": "https://localhost:8080/"
        },
        "id": "W9H3CdsBZEjE",
        "outputId": "0f1fb143-7863-4f7d-dea1-d1a840a2ef65"
      },
      "execution_count": null,
      "outputs": [
        {
          "output_type": "execute_result",
          "data": {
            "text/plain": [
              "tensor([[ 6, 12,  2],\n",
              "        [10, 17,  1],\n",
              "        [10,  5,  2]], device='cuda:0')"
            ]
          },
          "metadata": {},
          "execution_count": 31
        }
      ]
    },
    {
      "cell_type": "code",
      "source": [
        "nat_list = [[dataset.nat_vocab.idx_to_token[z] for z in x] for x in preds.cpu().tolist()]\n",
        "nat_list"
      ],
      "metadata": {
        "colab": {
          "base_uri": "https://localhost:8080/"
        },
        "id": "kuzpq-g4ZFjl",
        "outputId": "ff19605b-fb10-474d-8897-fe93bd0d44fa"
      },
      "execution_count": null,
      "outputs": [
        {
          "output_type": "execute_result",
          "data": {
            "text/plain": [
              "[['spanish', 'italian', 'german'],\n",
              " ['russian', 'czech', 'polish'],\n",
              " ['russian', 'english', 'german']]"
            ]
          },
          "metadata": {},
          "execution_count": 32
        }
      ]
    },
    {
      "cell_type": "markdown",
      "metadata": {
        "id": "a2MIErKTo9aO"
      },
      "source": [
        "### 1.2 Замените модуль `RNN` из 1.1 на модули `nn.RNN`, `nn.LSTM` и `nn.GRU` (не забудьте указать аргумент `batch_first=True`). Сравните результаты работы."
      ]
    },
    {
      "cell_type": "markdown",
      "source": [
        "#### nn.RNN"
      ],
      "metadata": {
        "id": "yQmoIpHcZLve"
      }
    },
    {
      "cell_type": "code",
      "source": [
        "class GetFeaturesFromRNN(torch.nn.Module):\n",
        "    def forward(self, x):\n",
        "        x, _ = x\n",
        "        if len(x.shape) == 3:\n",
        "            return x[:, -1, :]\n",
        "        elif len(x.shape) == 2:\n",
        "            return x[:, -1]"
      ],
      "metadata": {
        "id": "Mn--GRoQlnaZ"
      },
      "execution_count": null,
      "outputs": []
    },
    {
      "cell_type": "code",
      "source": [
        "class Model(torch.nn.Module):\n",
        "    def __init__(self, input_size, output_size): #input_size - len of rev dict\n",
        "        super(Model, self).__init__()\n",
        "        self.features = nn.Sequential(\n",
        "            nn.Embedding(input_size, embedding_dim=20, padding_idx=0),\n",
        "            nn.Dropout(0.25),\n",
        "        )\n",
        "        self.rnn = torch.nn.RNN(input_size=20, hidden_size=100, num_layers=1, batch_first=True)\n",
        "        self.get = GetFeaturesFromRNN()\n",
        "        self.classificator = nn.Sequential(\n",
        "            nn.Linear(in_features=100, out_features=output_size),\n",
        "            nn.LogSoftmax()\n",
        "        )\n",
        "\n",
        "    def forward(self, x):\n",
        "        x = self.features.forward(x)\n",
        "        batch_size = x.shape[0]\n",
        "        hx = torch.zeros((1, batch_size, 100)).to(*self.args, **self.kwargs)\n",
        "\n",
        "        x = self.rnn(x, hx)\n",
        "        x = self.get(x)\n",
        "\n",
        "        x = self.classificator.forward(x)\n",
        "        return x\n",
        "\n",
        "    def to(self, *args, **kwargs):\n",
        "        self = super().to(*args, **kwargs)\n",
        "        self.args, self.kwargs = args, kwargs\n",
        "        return self"
      ],
      "metadata": {
        "id": "nnkp8GBVZpi-"
      },
      "execution_count": null,
      "outputs": []
    },
    {
      "cell_type": "code",
      "source": [
        "model = Model(in_size, out_size)\n",
        "model.to(device)\n",
        "print(f'кол-во параметров в модели = {sum(p.numel() for p in model.parameters() if p.requires_grad)}')"
      ],
      "metadata": {
        "colab": {
          "base_uri": "https://localhost:8080/"
        },
        "outputId": "7b1626c7-aaeb-4d18-c4e0-7498b3a3da9b",
        "id": "AeFsEABwfVaL"
      },
      "execution_count": null,
      "outputs": [
        {
          "output_type": "stream",
          "name": "stdout",
          "text": [
            "кол-во параметров в модели = 15138\n"
          ]
        }
      ]
    },
    {
      "cell_type": "code",
      "source": [
        "next(model.parameters()).is_cuda"
      ],
      "metadata": {
        "colab": {
          "base_uri": "https://localhost:8080/"
        },
        "outputId": "bf610c11-a6cf-4cd7-9a4c-2304aa5b44dd",
        "id": "hunpE-_pfVaL"
      },
      "execution_count": null,
      "outputs": [
        {
          "output_type": "execute_result",
          "data": {
            "text/plain": [
              "True"
            ]
          },
          "metadata": {},
          "execution_count": 29
        }
      ]
    },
    {
      "cell_type": "code",
      "source": [
        "criterion = torch.nn.CrossEntropyLoss()\n",
        "optimizer = torch.optim.Adam(\n",
        "    model.parameters(),\n",
        "    lr=INIT_LR,\n",
        ")\n",
        "early_stopping = EarlyStopping(min_delta=0.005, tolerance=10)"
      ],
      "metadata": {
        "id": "QltbwePqfVaL"
      },
      "execution_count": null,
      "outputs": []
    },
    {
      "cell_type": "code",
      "source": [
        "train_loss = []\n",
        "val_loss = []\n",
        "for epoch in range(EPOCH):\n",
        "    print(f'epoch = {epoch}, ', end=\"\")\n",
        "    epoch_train_loss = train_one_epoch(model, trainLoader, criterion, optimizer, device)\n",
        "    train_loss.append(epoch_train_loss)\n",
        "\n",
        "    with torch.no_grad():\n",
        "        epoch_val_loss = val_one_epoch(model, valLoader, criterion, device)\n",
        "        val_loss.append(epoch_val_loss)\n",
        "\n",
        "    early_stopping(epoch_val_loss)\n",
        "    if early_stopping.flag:\n",
        "        print(f'early stop at epoch №{epoch}')\n",
        "        break\n",
        "torch.cuda.empty_cache() if device == 'cuda' else None"
      ],
      "metadata": {
        "colab": {
          "base_uri": "https://localhost:8080/"
        },
        "outputId": "62076f49-b6e0-4649-d679-65165378f670",
        "id": "c8-_26wLfVaM"
      },
      "execution_count": null,
      "outputs": [
        {
          "output_type": "stream",
          "name": "stdout",
          "text": [
            "epoch = 0, epoch = 1, counter = 1\n",
            "epoch = 2, epoch = 3, epoch = 4, epoch = 5, epoch = 6, epoch = 7, epoch = 8, epoch = 9, counter = 2\n",
            "epoch = 10, epoch = 11, epoch = 12, counter = 3\n",
            "epoch = 13, epoch = 14, epoch = 15, epoch = 16, epoch = 17, epoch = 18, counter = 4\n",
            "epoch = 19, epoch = 20, epoch = 21, counter = 5\n",
            "epoch = 22, epoch = 23, epoch = 24, epoch = 25, epoch = 26, epoch = 27, epoch = 28, epoch = 29, counter = 6\n",
            "epoch = 30, epoch = 31, epoch = 32, epoch = 33, counter = 7\n",
            "epoch = 34, epoch = 35, counter = 8\n",
            "epoch = 36, epoch = 37, epoch = 38, counter = 9\n",
            "epoch = 39, epoch = 40, counter = 10\n",
            "early stop at epoch №40\n"
          ]
        }
      ]
    },
    {
      "cell_type": "code",
      "source": [
        "df = pd.DataFrame({'val_loss': [np.mean(x) for x in val_loss], 'train_loss': [np.mean(x) for x in train_loss]})\n",
        "df.plot(kind='line')"
      ],
      "metadata": {
        "colab": {
          "base_uri": "https://localhost:8080/"
        },
        "outputId": "820277f1-1804-4e6f-85d8-5cd0b3395602",
        "id": "81qXhgI0fVaM"
      },
      "execution_count": null,
      "outputs": [
        {
          "output_type": "execute_result",
          "data": {
            "text/plain": [
              "<Axes: >"
            ]
          },
          "metadata": {},
          "execution_count": 32
        },
        {
          "output_type": "display_data",
          "data": {
            "text/plain": [
              "<Figure size 640x480 with 1 Axes>"
            ],
            "image/png": "[encoded data removed]"
          },
          "metadata": {}
        }
      ]
    },
    {
      "cell_type": "code",
      "source": [
        "with torch.no_grad():\n",
        "    test_data = test_model(model, testLoader, device, dataset.nat_vocab)\n",
        "torch.cuda.empty_cache() if device == 'cuda' else None"
      ],
      "metadata": {
        "colab": {
          "base_uri": "https://localhost:8080/"
        },
        "outputId": "d0156544-650c-481c-aef5-a19d39fd30cb",
        "id": "XHY-dnbgfVaM"
      },
      "execution_count": null,
      "outputs": [
        {
          "output_type": "stream",
          "name": "stderr",
          "text": [
            "C:\\Users\\user\\AppData\\Local\\Programs\\Python\\Python311\\Lib\\site-packages\\torch\\nn\\modules\\module.py:1518: UserWarning: Implicit dimension choice for log_softmax has been deprecated. Change the call to include dim=X as an argument.\n",
            "  return self._call_impl(*args, **kwargs)\n"
          ]
        }
      ]
    },
    {
      "cell_type": "code",
      "source": [
        "overall_accuracy = test_data[1].item()/test_data[2]\n",
        "print(f'overall acc = {round(overall_accuracy*100,2)}%')"
      ],
      "metadata": {
        "colab": {
          "base_uri": "https://localhost:8080/"
        },
        "outputId": "ecfc1490-5ebd-477f-ba25-fec9f769621a",
        "id": "XhP0DOfRfVaM"
      },
      "execution_count": null,
      "outputs": [
        {
          "output_type": "stream",
          "name": "stdout",
          "text": [
            "overall acc = 68.94%\n"
          ]
        }
      ]
    },
    {
      "cell_type": "code",
      "source": [
        "from seaborn import heatmap\n",
        "heatmap(test_data[0])"
      ],
      "metadata": {
        "colab": {
          "base_uri": "https://localhost:8080/"
        },
        "outputId": "9c8965ed-affd-4cd0-a096-ebeed331e1b6",
        "id": "Z6VZZuO1fVaM"
      },
      "execution_count": null,
      "outputs": [
        {
          "output_type": "execute_result",
          "data": {
            "text/plain": [
              "<Axes: >"
            ]
          },
          "metadata": {},
          "execution_count": 35
        },
        {
          "output_type": "display_data",
          "data": {
            "text/plain": [
              "<Figure size 640x480 with 2 Axes>"
            ],
            "image/png": "[encoded data removed]"
          },
          "metadata": {}
        }
      ]
    },
    {
      "cell_type": "code",
      "source": [
        "students = ['Alueva', 'Sultonov', 'Mikhailenko']\n",
        "students = [dataset.pad_features(dataset.create_idx_vec(x.lower()), dataset.max_seq_len) for x in students]\n",
        "students = torch.stack(students).to(device)\n",
        "\n",
        "preds = model.forward(students)"
      ],
      "metadata": {
        "colab": {
          "base_uri": "https://localhost:8080/"
        },
        "outputId": "376b029d-2011-4cf1-b13b-5e7609aa4b05",
        "id": "PiXJ2SHifVaM"
      },
      "execution_count": null,
      "outputs": [
        {
          "output_type": "stream",
          "name": "stderr",
          "text": [
            "C:\\Users\\user\\AppData\\Local\\Programs\\Python\\Python311\\Lib\\site-packages\\torch\\nn\\modules\\module.py:1518: UserWarning: Implicit dimension choice for log_softmax has been deprecated. Change the call to include dim=X as an argument.\n",
            "  return self._call_impl(*args, **kwargs)\n"
          ]
        }
      ]
    },
    {
      "cell_type": "code",
      "source": [
        "_, preds = torch.topk(preds, 3)\n",
        "preds"
      ],
      "metadata": {
        "colab": {
          "base_uri": "https://localhost:8080/"
        },
        "outputId": "17f90dae-59d5-4fb0-ec8e-af4bc65cc676",
        "id": "JkiDqgGffVaM"
      },
      "execution_count": null,
      "outputs": [
        {
          "output_type": "execute_result",
          "data": {
            "text/plain": [
              "tensor([[ 2, 12,  4],\n",
              "        [ 7, 17, 13],\n",
              "        [ 7, 17, 13]], device='cuda:0')"
            ]
          },
          "metadata": {},
          "execution_count": 37
        }
      ]
    },
    {
      "cell_type": "code",
      "source": [
        "nat_list = [[dataset.nat_vocab.idx_to_token[z] for z in x] for x in preds.cpu().tolist()]\n",
        "nat_list"
      ],
      "metadata": {
        "colab": {
          "base_uri": "https://localhost:8080/"
        },
        "outputId": "604684a4-ad49-4b28-ac1e-608698e42593",
        "id": "YDbvqhmnfVaN"
      },
      "execution_count": null,
      "outputs": [
        {
          "output_type": "execute_result",
          "data": {
            "text/plain": [
              "[['italian', 'spanish', 'japanese'],\n",
              " ['russian', 'czech', 'polish'],\n",
              " ['russian', 'czech', 'polish']]"
            ]
          },
          "metadata": {},
          "execution_count": 38
        }
      ]
    },
    {
      "cell_type": "markdown",
      "source": [
        "#### nn.LSTM"
      ],
      "metadata": {
        "id": "6dAEZ1lBZRO_"
      }
    },
    {
      "cell_type": "code",
      "source": [
        "class GetFeaturesFromRNN(torch.nn.Module):\n",
        "    def forward(self, x):\n",
        "        x, _ = x\n",
        "        if len(x.shape) == 3:\n",
        "            return x[:, -1, :]\n",
        "        elif len(x.shape) == 2:\n",
        "            return x[:, -1]"
      ],
      "metadata": {
        "id": "DaK1zLDmZqd9"
      },
      "execution_count": null,
      "outputs": []
    },
    {
      "cell_type": "code",
      "source": [
        "class Model(torch.nn.Module):\n",
        "    def __init__(self, input_size, output_size): #input_size - len of rev dict\n",
        "        super(Model, self).__init__()\n",
        "        self.features = nn.Sequential(\n",
        "            nn.Embedding(input_size, embedding_dim=20, padding_idx=0),\n",
        "            nn.Dropout(0.25),\n",
        "            nn.LSTM(20, 100, num_layers=3, batch_first=True, dropout=0.5),\n",
        "            GetFeaturesFromRNN()\n",
        "        )\n",
        "        self.classificator = nn.Sequential(\n",
        "            nn.Linear(in_features=100, out_features=output_size),\n",
        "            nn.LogSoftmax()\n",
        "        )\n",
        "\n",
        "    def forward(self, x):\n",
        "        x = self.features.forward(x)\n",
        "        x = torch.flatten(x, 1)\n",
        "        x = self.classificator.forward(x)\n",
        "        return x"
      ],
      "metadata": {
        "id": "wRZB6TJlZqeC"
      },
      "execution_count": null,
      "outputs": []
    },
    {
      "cell_type": "code",
      "source": [
        "model = Model(in_size, out_size)\n",
        "model.to(device)\n",
        "print(f'кол-во параметров в модели = {sum(p.numel() for p in model.parameters() if p.requires_grad)}')"
      ],
      "metadata": {
        "colab": {
          "base_uri": "https://localhost:8080/"
        },
        "outputId": "db427359-aa25-4ee2-e6a1-e2830074e527",
        "id": "HSlMvNjjmaq2"
      },
      "execution_count": null,
      "outputs": [
        {
          "output_type": "stream",
          "name": "stdout",
          "text": [
            "кол-во параметров в модели = 213338\n"
          ]
        }
      ]
    },
    {
      "cell_type": "code",
      "source": [
        "next(model.parameters()).is_cuda"
      ],
      "metadata": {
        "colab": {
          "base_uri": "https://localhost:8080/"
        },
        "outputId": "9a18f583-6ad1-474d-c8da-2cc8b60cee15",
        "id": "6dhPf4g-maq8"
      },
      "execution_count": null,
      "outputs": [
        {
          "output_type": "execute_result",
          "data": {
            "text/plain": [
              "True"
            ]
          },
          "metadata": {},
          "execution_count": 42
        }
      ]
    },
    {
      "cell_type": "code",
      "source": [
        "criterion = torch.nn.CrossEntropyLoss()\n",
        "optimizer = torch.optim.Adam(\n",
        "    model.parameters(),\n",
        "    lr=INIT_LR,\n",
        ")\n",
        "early_stopping = EarlyStopping(min_delta=0.005, tolerance=10)"
      ],
      "metadata": {
        "id": "7VOrPoA8maq8"
      },
      "execution_count": null,
      "outputs": []
    },
    {
      "cell_type": "code",
      "source": [
        "train_loss = []\n",
        "val_loss = []\n",
        "for epoch in range(EPOCH):\n",
        "    print(f'epoch = {epoch}, ', end=\"\")\n",
        "    epoch_train_loss = train_one_epoch(model, trainLoader, criterion, optimizer, device)\n",
        "    train_loss.append(epoch_train_loss)\n",
        "\n",
        "    with torch.no_grad():\n",
        "        epoch_val_loss = val_one_epoch(model, valLoader, criterion, device)\n",
        "        val_loss.append(epoch_val_loss)\n",
        "\n",
        "    early_stopping(epoch_val_loss)\n",
        "    if early_stopping.flag:\n",
        "        print(f'early stop at epoch №{epoch}')\n",
        "        break\n",
        "torch.cuda.empty_cache() if device == 'cuda' else None"
      ],
      "metadata": {
        "colab": {
          "base_uri": "https://localhost:8080/"
        },
        "outputId": "474de255-63fb-43cc-c496-b3c84c73f864",
        "id": "h_ZZHuopmaq8"
      },
      "execution_count": null,
      "outputs": [
        {
          "output_type": "stream",
          "name": "stdout",
          "text": [
            "epoch = 0, epoch = 1, epoch = 2, epoch = 3, epoch = 4, epoch = 5, epoch = 6, epoch = 7, epoch = 8, epoch = 9, epoch = 10, epoch = 11, epoch = 12, epoch = 13, epoch = 14, epoch = 15, epoch = 16, epoch = 17, epoch = 18, counter = 1\n",
            "epoch = 19, epoch = 20, epoch = 21, counter = 2\n",
            "epoch = 22, epoch = 23, epoch = 24, epoch = 25, epoch = 26, epoch = 27, epoch = 28, epoch = 29, counter = 3\n",
            "epoch = 30, counter = 4\n",
            "epoch = 31, epoch = 32, epoch = 33, epoch = 34, epoch = 35, epoch = 36, epoch = 37, counter = 5\n",
            "epoch = 38, counter = 6\n",
            "epoch = 39, counter = 7\n",
            "epoch = 40, counter = 8\n",
            "epoch = 41, counter = 9\n",
            "epoch = 42, counter = 10\n",
            "early stop at epoch №42\n"
          ]
        }
      ]
    },
    {
      "cell_type": "code",
      "source": [
        "df = pd.DataFrame({'val_loss': [np.mean(x) for x in val_loss], 'train_loss': [np.mean(x) for x in train_loss]})\n",
        "df.plot(kind='line')"
      ],
      "metadata": {
        "colab": {
          "base_uri": "https://localhost:8080/"
        },
        "outputId": "378ba878-7611-4328-dbea-a5ccf37fc7aa",
        "id": "E4DO3GVamaq8"
      },
      "execution_count": null,
      "outputs": [
        {
          "output_type": "execute_result",
          "data": {
            "text/plain": [
              "<Axes: >"
            ]
          },
          "metadata": {},
          "execution_count": 45
        },
        {
          "output_type": "display_data",
          "data": {
            "text/plain": [
              "<Figure size 640x480 with 1 Axes>"
            ],
            "image/png": "[encoded data removed]"
          },
          "metadata": {}
        }
      ]
    },
    {
      "cell_type": "code",
      "source": [
        "with torch.no_grad():\n",
        "    test_data = test_model(model, testLoader, device, dataset.nat_vocab)\n",
        "torch.cuda.empty_cache() if device == 'cuda' else None"
      ],
      "metadata": {
        "colab": {
          "base_uri": "https://localhost:8080/"
        },
        "outputId": "03ad2b1b-f629-453b-a047-5e077d299603",
        "id": "QoTF1Mbemaq8"
      },
      "execution_count": null,
      "outputs": [
        {
          "output_type": "stream",
          "name": "stderr",
          "text": [
            "C:\\Users\\user\\AppData\\Local\\Programs\\Python\\Python311\\Lib\\site-packages\\torch\\nn\\modules\\module.py:1518: UserWarning: Implicit dimension choice for log_softmax has been deprecated. Change the call to include dim=X as an argument.\n",
            "  return self._call_impl(*args, **kwargs)\n"
          ]
        }
      ]
    },
    {
      "cell_type": "code",
      "source": [
        "overall_accuracy = test_data[1].item()/test_data[2]\n",
        "print(f'overall acc = {round(overall_accuracy*100,2)}%')"
      ],
      "metadata": {
        "colab": {
          "base_uri": "https://localhost:8080/"
        },
        "outputId": "15338b68-f733-4e04-ffda-999ad08f4a0a",
        "id": "traSucbHmaq8"
      },
      "execution_count": null,
      "outputs": [
        {
          "output_type": "stream",
          "name": "stdout",
          "text": [
            "overall acc = 75.96%\n"
          ]
        }
      ]
    },
    {
      "cell_type": "code",
      "source": [
        "from seaborn import heatmap\n",
        "heatmap(test_data[0])"
      ],
      "metadata": {
        "colab": {
          "base_uri": "https://localhost:8080/"
        },
        "outputId": "70d6b541-7b75-41f1-cd9f-9ca9f2e6b056",
        "id": "dfoA0K_0maq8"
      },
      "execution_count": null,
      "outputs": [
        {
          "output_type": "execute_result",
          "data": {
            "text/plain": [
              "<Axes: >"
            ]
          },
          "metadata": {},
          "execution_count": 48
        },
        {
          "output_type": "display_data",
          "data": {
            "text/plain": [
              "<Figure size 640x480 with 2 Axes>"
            ],
            "image/png": "[encoded data removed]"
          },
          "metadata": {}
        }
      ]
    },
    {
      "cell_type": "code",
      "source": [
        "students = ['Alueva', 'Sultonov', 'Mikhailenko']\n",
        "students = [dataset.pad_features(dataset.create_idx_vec(x.lower()), dataset.max_seq_len) for x in students]\n",
        "students = torch.stack(students).to(device)\n",
        "\n",
        "preds = model.forward(students)"
      ],
      "metadata": {
        "colab": {
          "base_uri": "https://localhost:8080/"
        },
        "outputId": "3ab8b254-df59-4b2a-bbed-663604a20020",
        "id": "89uIgdOzmaq9"
      },
      "execution_count": null,
      "outputs": [
        {
          "output_type": "stream",
          "name": "stderr",
          "text": [
            "C:\\Users\\user\\AppData\\Local\\Programs\\Python\\Python311\\Lib\\site-packages\\torch\\nn\\modules\\module.py:1518: UserWarning: Implicit dimension choice for log_softmax has been deprecated. Change the call to include dim=X as an argument.\n",
            "  return self._call_impl(*args, **kwargs)\n"
          ]
        }
      ]
    },
    {
      "cell_type": "code",
      "source": [
        "_, preds = torch.topk(preds, 3)\n",
        "preds"
      ],
      "metadata": {
        "colab": {
          "base_uri": "https://localhost:8080/"
        },
        "outputId": "dc478fed-09cc-47d2-8983-980dfaf24b61",
        "id": "DPlQ6GlNmaq9"
      },
      "execution_count": null,
      "outputs": [
        {
          "output_type": "execute_result",
          "data": {
            "text/plain": [
              "tensor([[12, 17,  2],\n",
              "        [ 7, 17, 11],\n",
              "        [ 7,  4, 17]], device='cuda:0')"
            ]
          },
          "metadata": {},
          "execution_count": 50
        }
      ]
    },
    {
      "cell_type": "code",
      "source": [
        "nat_list = [[dataset.nat_vocab.idx_to_token[z] for z in x] for x in preds.cpu().tolist()]\n",
        "nat_list"
      ],
      "metadata": {
        "colab": {
          "base_uri": "https://localhost:8080/"
        },
        "outputId": "3aaa6e22-c2ed-4c08-bb8a-180d27433023",
        "id": "RzjB2GTBmaq9"
      },
      "execution_count": null,
      "outputs": [
        {
          "output_type": "execute_result",
          "data": {
            "text/plain": [
              "[['spanish', 'czech', 'italian'],\n",
              " ['russian', 'czech', 'german'],\n",
              " ['russian', 'japanese', 'czech']]"
            ]
          },
          "metadata": {},
          "execution_count": 51
        }
      ]
    },
    {
      "cell_type": "markdown",
      "source": [
        "#### nn.GRU"
      ],
      "metadata": {
        "id": "P0UAYoIjZTWd"
      }
    },
    {
      "cell_type": "code",
      "source": [
        "class GetFeaturesFromRNN(torch.nn.Module):\n",
        "    def forward(self, x):\n",
        "        x, _ = x\n",
        "        if len(x.shape) == 3:\n",
        "            return x[:, -1, :]\n",
        "        elif len(x.shape) == 2:\n",
        "            return x[:, -1]"
      ],
      "metadata": {
        "id": "v8D2hxdaZrO-"
      },
      "execution_count": null,
      "outputs": []
    },
    {
      "cell_type": "code",
      "source": [
        "class Model(torch.nn.Module):\n",
        "    def __init__(self, input_size, output_size): #input_size - len of rev dict\n",
        "        super(Model, self).__init__()\n",
        "        self.features = nn.Sequential(\n",
        "            nn.Embedding(input_size, embedding_dim=20, padding_idx=0),\n",
        "            nn.Dropout(0.25),\n",
        "            nn.GRU(20, 100, num_layers=3, batch_first=True, dropout=0.5),\n",
        "            GetFeaturesFromRNN()\n",
        "        )\n",
        "        self.classificator = nn.Sequential(\n",
        "            nn.Linear(in_features=100, out_features=output_size),\n",
        "            nn.LogSoftmax()\n",
        "        )\n",
        "\n",
        "    def forward(self, x):\n",
        "        x = self.features.forward(x)\n",
        "        x = torch.flatten(x, 1)\n",
        "        x = self.classificator.forward(x)\n",
        "        return x"
      ],
      "metadata": {
        "id": "wbGvoduNZrPD"
      },
      "execution_count": null,
      "outputs": []
    },
    {
      "cell_type": "code",
      "source": [
        "model = Model(in_size, out_size)\n",
        "model.to(device)\n",
        "print(f'кол-во параметров в модели = {sum(p.numel() for p in model.parameters() if p.requires_grad)}')"
      ],
      "metadata": {
        "colab": {
          "base_uri": "https://localhost:8080/"
        },
        "outputId": "d9d816fc-ad7b-4b91-f19a-ce018b537970",
        "id": "xFzo4mXcm4WS"
      },
      "execution_count": null,
      "outputs": [
        {
          "output_type": "stream",
          "name": "stdout",
          "text": [
            "кол-во параметров в модели = 160738\n"
          ]
        }
      ]
    },
    {
      "cell_type": "code",
      "source": [
        "next(model.parameters()).is_cuda"
      ],
      "metadata": {
        "colab": {
          "base_uri": "https://localhost:8080/"
        },
        "outputId": "e4cc1b94-b62f-49d8-f1f7-5826e0a3d248",
        "id": "FOfBIB1Sm4WT"
      },
      "execution_count": null,
      "outputs": [
        {
          "output_type": "execute_result",
          "data": {
            "text/plain": [
              "True"
            ]
          },
          "metadata": {},
          "execution_count": 55
        }
      ]
    },
    {
      "cell_type": "code",
      "source": [
        "criterion = torch.nn.CrossEntropyLoss()\n",
        "optimizer = torch.optim.Adam(\n",
        "    model.parameters(),\n",
        "    lr=INIT_LR,\n",
        ")\n",
        "early_stopping = EarlyStopping(min_delta=0.005, tolerance=10)"
      ],
      "metadata": {
        "id": "6G27Hl-cm4WT"
      },
      "execution_count": null,
      "outputs": []
    },
    {
      "cell_type": "code",
      "source": [
        "train_loss = []\n",
        "val_loss = []\n",
        "for epoch in range(EPOCH):\n",
        "    print(f'epoch = {epoch}, ', end=\"\")\n",
        "    epoch_train_loss = train_one_epoch(model, trainLoader, criterion, optimizer, device)\n",
        "    train_loss.append(epoch_train_loss)\n",
        "\n",
        "    with torch.no_grad():\n",
        "        epoch_val_loss = val_one_epoch(model, valLoader, criterion, device)\n",
        "        val_loss.append(epoch_val_loss)\n",
        "\n",
        "    early_stopping(epoch_val_loss)\n",
        "    if early_stopping.flag:\n",
        "        print(f'early stop at epoch №{epoch}')\n",
        "        break\n",
        "torch.cuda.empty_cache() if device == 'cuda' else None"
      ],
      "metadata": {
        "colab": {
          "base_uri": "https://localhost:8080/"
        },
        "outputId": "9bf6066b-44f7-4fdc-8a96-5c3dcf51fd50",
        "id": "Zf-l_79sm4WT"
      },
      "execution_count": null,
      "outputs": [
        {
          "output_type": "stream",
          "name": "stdout",
          "text": [
            "epoch = 0, epoch = 1, epoch = 2, epoch = 3, epoch = 4, epoch = 5, epoch = 6, epoch = 7, epoch = 8, epoch = 9, epoch = 10, epoch = 11, counter = 1\n",
            "epoch = 12, epoch = 13, epoch = 14, epoch = 15, counter = 2\n",
            "epoch = 16, epoch = 17, epoch = 18, epoch = 19, counter = 3\n",
            "epoch = 20, epoch = 21, epoch = 22, counter = 4\n",
            "epoch = 23, counter = 5\n",
            "epoch = 24, epoch = 25, epoch = 26, counter = 6\n",
            "epoch = 27, epoch = 28, counter = 7\n",
            "epoch = 29, epoch = 30, counter = 8\n",
            "epoch = 31, counter = 9\n",
            "epoch = 32, epoch = 33, epoch = 34, counter = 10\n",
            "early stop at epoch №34\n"
          ]
        }
      ]
    },
    {
      "cell_type": "code",
      "source": [
        "df = pd.DataFrame({'val_loss': [np.mean(x) for x in val_loss], 'train_loss': [np.mean(x) for x in train_loss]})\n",
        "df.plot(kind='line')"
      ],
      "metadata": {
        "colab": {
          "base_uri": "https://localhost:8080/",
          "height": 447
        },
        "outputId": "20b0782d-7737-4a0b-efdf-a2a3c4b28b51",
        "id": "KhGcqQIMm4WT"
      },
      "execution_count": null,
      "outputs": [
        {
          "output_type": "execute_result",
          "data": {
            "text/plain": [
              "<Axes: >"
            ]
          },
          "metadata": {},
          "execution_count": 58
        },
        {
          "output_type": "display_data",
          "data": {
            "text/plain": [
              "<Figure size 640x480 with 1 Axes>"
            ],
            "image/png": "[encoded data removed]"
          },
          "metadata": {}
        }
      ]
    },
    {
      "cell_type": "code",
      "source": [
        "with torch.no_grad():\n",
        "    test_data = test_model(model, testLoader, device, dataset.nat_vocab)\n",
        "torch.cuda.empty_cache() if device == 'cuda' else None"
      ],
      "metadata": {
        "colab": {
          "base_uri": "https://localhost:8080/"
        },
        "outputId": "9dfeffbe-ab7f-4707-a228-08456787ccad",
        "id": "CjnVL6Xdm4WT"
      },
      "execution_count": null,
      "outputs": [
        {
          "output_type": "stream",
          "name": "stderr",
          "text": [
            "C:\\Users\\user\\AppData\\Local\\Programs\\Python\\Python311\\Lib\\site-packages\\torch\\nn\\modules\\module.py:1518: UserWarning: Implicit dimension choice for log_softmax has been deprecated. Change the call to include dim=X as an argument.\n",
            "  return self._call_impl(*args, **kwargs)\n"
          ]
        }
      ]
    },
    {
      "cell_type": "code",
      "source": [
        "overall_accuracy = test_data[1].item()/test_data[2]\n",
        "print(f'overall acc = {round(overall_accuracy*100,2)}%')"
      ],
      "metadata": {
        "colab": {
          "base_uri": "https://localhost:8080/"
        },
        "outputId": "e961c9b1-1682-4b6a-a13e-c5aa3690bf96",
        "id": "Yvzn5umgm4WT"
      },
      "execution_count": null,
      "outputs": [
        {
          "output_type": "stream",
          "name": "stdout",
          "text": [
            "overall acc = 77.41%\n"
          ]
        }
      ]
    },
    {
      "cell_type": "code",
      "source": [
        "from seaborn import heatmap\n",
        "heatmap(test_data[0])"
      ],
      "metadata": {
        "colab": {
          "base_uri": "https://localhost:8080/",
          "height": 447
        },
        "outputId": "aca6e5ca-e086-45a2-8554-e966a7cfb9a4",
        "id": "NqQaCasgm4WT"
      },
      "execution_count": null,
      "outputs": [
        {
          "output_type": "execute_result",
          "data": {
            "text/plain": [
              "<Axes: >"
            ]
          },
          "metadata": {},
          "execution_count": 61
        },
        {
          "output_type": "display_data",
          "data": {
            "text/plain": [
              "<Figure size 640x480 with 2 Axes>"
            ],
            "image/png": "[encoded data removed]"
          },
          "metadata": {}
        }
      ]
    },
    {
      "cell_type": "code",
      "source": [
        "students = ['Alueva', 'Sultonov', 'Mikhailenko']\n",
        "students = [dataset.pad_features(dataset.create_idx_vec(x.lower()), dataset.max_seq_len) for x in students]\n",
        "students = torch.stack(students).to(device)\n",
        "\n",
        "preds = model.forward(students)"
      ],
      "metadata": {
        "colab": {
          "base_uri": "https://localhost:8080/"
        },
        "outputId": "2b858aae-6701-4b24-8d00-5724441ce6f1",
        "id": "cGCNf9l7m4WT"
      },
      "execution_count": null,
      "outputs": [
        {
          "output_type": "stream",
          "name": "stderr",
          "text": [
            "C:\\Users\\user\\AppData\\Local\\Programs\\Python\\Python311\\Lib\\site-packages\\torch\\nn\\modules\\module.py:1518: UserWarning: Implicit dimension choice for log_softmax has been deprecated. Change the call to include dim=X as an argument.\n",
            "  return self._call_impl(*args, **kwargs)\n"
          ]
        }
      ]
    },
    {
      "cell_type": "code",
      "source": [
        "_, preds = torch.topk(preds, 3)\n",
        "preds"
      ],
      "metadata": {
        "colab": {
          "base_uri": "https://localhost:8080/"
        },
        "outputId": "2b4aaf0b-5b76-4070-cd60-045883cd1b51",
        "id": "vtyUCpEfm4WT"
      },
      "execution_count": null,
      "outputs": [
        {
          "output_type": "execute_result",
          "data": {
            "text/plain": [
              "tensor([[12, 17,  2],\n",
              "        [ 7, 17,  2],\n",
              "        [ 7, 17,  4]], device='cuda:0')"
            ]
          },
          "metadata": {},
          "execution_count": 63
        }
      ]
    },
    {
      "cell_type": "code",
      "source": [
        "nat_list = [[dataset.nat_vocab.idx_to_token[z] for z in x] for x in preds.cpu().tolist()]\n",
        "nat_list"
      ],
      "metadata": {
        "colab": {
          "base_uri": "https://localhost:8080/"
        },
        "outputId": "b4a39a4d-70df-4038-c3dd-148159739aa8",
        "id": "JaFcuSeKm4WT"
      },
      "execution_count": null,
      "outputs": [
        {
          "output_type": "execute_result",
          "data": {
            "text/plain": [
              "[['spanish', 'czech', 'italian'],\n",
              " ['russian', 'czech', 'italian'],\n",
              " ['russian', 'czech', 'japanese']]"
            ]
          },
          "metadata": {},
          "execution_count": 64
        }
      ]
    },
    {
      "cell_type": "markdown",
      "metadata": {
        "id": "_6YBam_3t-fO"
      },
      "source": [
        "### 1.3 Загрузите предобученные эмбеддинги (https://disk.yandex.ru/d/BHuT2tEXr_yBOQ?w=1) в модуль `nn.Embedding` и обучите модели из 1.2."
      ]
    },
    {
      "cell_type": "code",
      "source": [
        "# это либо не будет иметь смысла, если мы будем адаптировать эмбеддинги к словарю токенов из нашего датасета, т.к. совпадения будут только в том случае, если слово будет длиной 1 символ(например a, i и т.д.), но у нас не та задача, чтоб предобученный эмбеддинг из СЛОВ применялся на датасете из СИМВОЛОВ\n",
        "# либо просто ничего не будет работать и все сломается, если я просто загружу предобученные эмбеддинги в nn.Embedding (применимо нашей задачи)\n"
      ],
      "metadata": {
        "id": "RzFAC9gHpyN4"
      },
      "execution_count": null,
      "outputs": []
    },
    {
      "cell_type": "markdown",
      "metadata": {
        "id": "f7kf990U9Do-"
      },
      "source": [
        "## 2. Классификация обзоров на фильмы (RNN)\n",
        "\n",
        "Датасет: https://disk.yandex.ru/d/tdinpb0nN_Dsrg\n",
        "\n",
        "2.1 Создайте набор данных на основе файлов polarity/positive_reviews.csv (положительные отзывы) и polarity/negative_reviews.csv (отрицательные отзывы). Разбейте на обучающую и тестовую выборку.\n",
        "  * токен = __слово__\n",
        "  * данные для обучения в датасете представляются в виде последовательности индексов токенов\n",
        "  * словарь создается на основе _только_ обучающей выборки. Для корректной обработки ситуаций, когда в тестовой выборке встретится токен, который не хранится в словаре, добавьте в словарь специальный токен `<UNK>`\n",
        "  * добавьте предобработку текста\n",
        "\n",
        "2.2. Обучите классификатор.\n",
        "  \n",
        "  * Для преобразования последовательности индексов в последовательность векторов используйте `nn.Embedding`\n",
        "    - подберите адекватную размерность вектора эмбеддинга:\n",
        "    - модуль `nn.Embedding` обучается\n",
        "\n",
        "  * Используйте рекуррентные слои (`nn.RNN`, `nn.LSTM`, `nn.GRU`)\n",
        "\n",
        "\n",
        "2.3 Измерить точность на тестовой выборке. Проверить работоспособность модели: придумать небольшой отзыв, прогнать его через модель и вывести номер предсказанного класса (сделать это для явно позитивного и явно негативного отзыва)\n",
        "* Целевое значение accuracy на валидации - 70+%"
      ]
    },
    {
      "cell_type": "code",
      "source": [
        "paths = [r'C:\\Users\\user\\Desktop\\dz\\DL\\lab6\\polarity\\positive_reviews.txt', r'C:\\Users\\user\\Desktop\\dz\\DL\\lab6\\polarity\\negative_reviews.txt']"
      ],
      "metadata": {
        "id": "vq7Zfs_AqhWh"
      },
      "execution_count": null,
      "outputs": []
    },
    {
      "cell_type": "markdown",
      "source": [
        "### data structures"
      ],
      "metadata": {
        "id": "YZx0KW_wZX5E"
      }
    },
    {
      "cell_type": "code",
      "source": [
        "class Vocab:\n",
        "    def __init__(self, data:list, spec_symb=True, start=0): # data - list of tokens\n",
        "        self.create_tokens_set(data)\n",
        "\n",
        "        self.idx_to_token = {i+start: v for i,v in enumerate(self.tokens) if v!='<PAD>'}\n",
        "\n",
        "        self.token_to_idx = {v: i+start for i,v in enumerate(self.tokens) if v!='<PAD>'}\n",
        "\n",
        "        if spec_symb and start>0:\n",
        "            self.idx_to_token[0] = '<PAD>'\n",
        "            self.token_to_idx['<PAD>'] = 0\n",
        "            self.idx_to_token[1] = '<UNK>'\n",
        "            self.token_to_idx['<UNK>'] = 1\n",
        "\n",
        "    def create_tokens_set(self, data):\n",
        "        self.tokens = list(set(data))\n",
        "\n",
        "    def __len__(self):\n",
        "        return len(self.token_to_idx)"
      ],
      "metadata": {
        "id": "YxnTuKuOjsde"
      },
      "execution_count": null,
      "outputs": []
    },
    {
      "cell_type": "code",
      "source": [
        "class MasterDF():\n",
        "    def __init__(self, path: list): #path_0 - pos rev, path_1 - neg rev\n",
        "        df = self.load_df(path)\n",
        "        self.n_classes = len(df['class'].unique())\n",
        "\n",
        "        self.stemmer = nltk.stem.SnowballStemmer('english')\n",
        "        self.stop_words = set(nltk.corpus.stopwords.words('english'))\n",
        "        self.lemmatizer = nltk.stem.WordNetLemmatizer()\n",
        "        df['rev'] = df['rev'].apply(self.preprocess_text)\n",
        "\n",
        "        self.rev_max_len = len(max(df['rev'], key=len))\n",
        "        df['rev'] = df['rev'].apply(self.pad_features)\n",
        "\n",
        "        self.split_df(df)\n",
        "\n",
        "        self.rev_vocab = Vocab(list(chain.from_iterable([[x for x in seq] for seq in self.train_df['rev'].tolist()])), spec_symb=True, start=2)\n",
        "        self.val_df['rev'] = self.val_df['rev'].apply(self.fill_unk_tokens)\n",
        "        self.test_df['rev'] = self.test_df['rev'].apply(self.fill_unk_tokens)\n",
        "\n",
        "    def fill_unk_tokens(self, target: list):\n",
        "        for i, token in enumerate(target):\n",
        "            if token not in self.rev_vocab.token_to_idx.keys():\n",
        "                target[i] = '<UNK>'\n",
        "        return target\n",
        "\n",
        "    def pad_features(self, target: list):\n",
        "        diff = self.rev_max_len - len(target)\n",
        "        for i in range(diff):\n",
        "            target.append('<PAD>')\n",
        "        return target\n",
        "\n",
        "    def preprocess_text(self, text: str):\n",
        "        text = re.sub(r'[^\\w\\s]', ' ', text)\n",
        "        text = re.sub(r'\\d+', ' ', text)\n",
        "        text = text.lower()\n",
        "        text = nltk.tokenize.word_tokenize(text)\n",
        "        text = [self.lemmatizer.lemmatize(word) for word in text if word not in self.stop_words]\n",
        "        text = [self.stemmer.stem(word) for word in text]\n",
        "        return text\n",
        "\n",
        "    def split_df(self, df: pd.DataFrame):\n",
        "        train_n = int(len(df) * 0.8)\n",
        "        val_n = int(len(df) * 0.1)\n",
        "        self.train_df = df.iloc[0:train_n]\n",
        "        self.val_df = df.iloc[train_n: train_n+val_n]\n",
        "        self.test_df = df.iloc[train_n+val_n:]\n",
        "\n",
        "    def load_df(self, path: list):\n",
        "        with open(paths[0]) as f:\n",
        "            pos_lines = f.readlines()\n",
        "            for i in range(len(pos_lines)):\n",
        "                pos_lines[i] = (pos_lines[i], 0)\n",
        "        with open(paths[1]) as f:\n",
        "            neg_lines = f.readlines()\n",
        "            for i in range(len(neg_lines)):\n",
        "                neg_lines[i] = (neg_lines[i], 1)\n",
        "\n",
        "        lines = pos_lines + neg_lines\n",
        "        random.shuffle(lines)\n",
        "        df = pd.DataFrame(lines, columns=['rev', 'class'])\n",
        "        return df"
      ],
      "metadata": {
        "id": "D58GdLJqnxPR"
      },
      "execution_count": null,
      "outputs": []
    },
    {
      "cell_type": "code",
      "source": [
        "class ReviewDataset(torch.utils.data.Dataset):\n",
        "    def __init__(self, df, vocab): #df to pass depend on category (train, val, test)\n",
        "        self.df = df\n",
        "        self.vocab = vocab\n",
        "\n",
        "    def create_idx_vec(self, sent): #sent: list, list of tokens\n",
        "        new_seq = torch.tensor([self.vocab.token_to_idx[item] for item in sent])\n",
        "        return new_seq\n",
        "\n",
        "    def __getitem__(self, idx: int):\n",
        "        return self.create_idx_vec(self.df['rev'].iloc[idx]), self.df['class'].iloc[idx]\n",
        "\n",
        "    def __len__(self):\n",
        "        return len(self.df)"
      ],
      "metadata": {
        "id": "4OvxwOd-ZaPJ"
      },
      "execution_count": null,
      "outputs": []
    },
    {
      "cell_type": "code",
      "source": [
        "class Transpose(torch.nn.Module):\n",
        "    def __init__(self, dim0, dim1):\n",
        "        super(Transpose, self).__init__()\n",
        "        self.dim0 = dim0\n",
        "        self.dim1 = dim1\n",
        "\n",
        "    def forward(self, x):\n",
        "        x = torch.transpose(x, self.dim0, self.dim1)\n",
        "        return x"
      ],
      "metadata": {
        "id": "kaOgMFLyu_jt"
      },
      "execution_count": null,
      "outputs": []
    },
    {
      "cell_type": "code",
      "source": [
        "class GetFeaturesFromRNN(torch.nn.Module):\n",
        "    def forward(self, x):\n",
        "        x, _ = x\n",
        "        if len(x.shape) == 3:\n",
        "            return x[:, -1, :]\n",
        "        elif len(x.shape) == 2:\n",
        "            return x[:, -1]"
      ],
      "metadata": {
        "id": "ikMLS1c0vAQL"
      },
      "execution_count": null,
      "outputs": []
    },
    {
      "cell_type": "code",
      "source": [
        "class Model(torch.nn.Module):\n",
        "    def __init__(self, input_size, output_size): #input_size - len of rev dict\n",
        "        super(Model, self).__init__()\n",
        "        self.features = nn.Sequential(\n",
        "            nn.Embedding(input_size+1, embedding_dim=50, padding_idx=0),\n",
        "            nn.Dropout(0.25),\n",
        "            nn.GRU(50, 500, num_layers=3, batch_first=True, dropout=0.5),\n",
        "            GetFeaturesFromRNN()\n",
        "        )\n",
        "        self.classificator = nn.Sequential(\n",
        "            nn.Linear(in_features=500, out_features=output_size),\n",
        "            nn.LogSoftmax()\n",
        "        )\n",
        "\n",
        "    def forward(self, x):\n",
        "        x = self.features.forward(x)\n",
        "        x = torch.flatten(x, 1)\n",
        "        x = self.classificator.forward(x)\n",
        "        return x"
      ],
      "metadata": {
        "id": "BWm2QcjltWZ8"
      },
      "execution_count": null,
      "outputs": []
    },
    {
      "cell_type": "markdown",
      "source": [
        "### proccessing"
      ],
      "metadata": {
        "id": "urq4LOr6hT8m"
      }
    },
    {
      "cell_type": "code",
      "source": [
        "BATCH_SIZE = 20\n",
        "INIT_LR = 1e-3\n",
        "EPOCH = 150\n",
        "device = \"cuda\" if torch.cuda.is_available() else \"cpu\"\n",
        "torch.cuda.empty_cache() if device == 'cuda' else None"
      ],
      "metadata": {
        "id": "hBmPMI0Ht593"
      },
      "execution_count": null,
      "outputs": []
    },
    {
      "cell_type": "code",
      "source": [
        "paths = [r'C:\\Users\\user\\Desktop\\dz\\DL\\lab6\\polarity\\positive_reviews.txt', r'C:\\Users\\user\\Desktop\\dz\\DL\\lab6\\polarity\\negative_reviews.txt']"
      ],
      "metadata": {
        "id": "DFunrxJPhVWd"
      },
      "execution_count": null,
      "outputs": []
    },
    {
      "cell_type": "code",
      "source": [
        "mdf = MasterDF(paths)"
      ],
      "metadata": {
        "colab": {
          "base_uri": "https://localhost:8080/"
        },
        "id": "tx2baGiKtUvR",
        "outputId": "f0b7cd40-3fda-4836-b15c-ead8d79b0fbc"
      },
      "execution_count": null,
      "outputs": [
        {
          "output_type": "stream",
          "name": "stderr",
          "text": [
            "C:\\Users\\user\\AppData\\Local\\Temp\\ipykernel_2592\\2669014873.py:17: SettingWithCopyWarning: \n",
            "A value is trying to be set on a copy of a slice from a DataFrame.\n",
            "Try using .loc[row_indexer,col_indexer] = value instead\n",
            "\n",
            "See the caveats in the documentation: https://pandas.pydata.org/pandas-docs/stable/user_guide/indexing.html#returning-a-view-versus-a-copy\n",
            "  self.val_df['rev'] = self.val_df['rev'].apply(self.fill_unk_tokens)\n",
            "C:\\Users\\user\\AppData\\Local\\Temp\\ipykernel_2592\\2669014873.py:18: SettingWithCopyWarning: \n",
            "A value is trying to be set on a copy of a slice from a DataFrame.\n",
            "Try using .loc[row_indexer,col_indexer] = value instead\n",
            "\n",
            "See the caveats in the documentation: https://pandas.pydata.org/pandas-docs/stable/user_guide/indexing.html#returning-a-view-versus-a-copy\n",
            "  self.test_df['rev'] = self.test_df['rev'].apply(self.fill_unk_tokens)\n"
          ]
        }
      ]
    },
    {
      "cell_type": "code",
      "source": [
        "train_dataset, val_dataset, test_dataset = ReviewDataset(mdf.train_df, mdf.rev_vocab), ReviewDataset(mdf.val_df, mdf.rev_vocab), ReviewDataset(mdf.test_df, mdf.rev_vocab)"
      ],
      "metadata": {
        "id": "GFhv5iNxtg4h"
      },
      "execution_count": null,
      "outputs": []
    },
    {
      "cell_type": "code",
      "source": [
        "trainLoader = torch.utils.data.DataLoader(train_dataset, batch_size=BATCH_SIZE, shuffle=True, pin_memory=True, num_workers = 0)\n",
        "valLoader = torch.utils.data.DataLoader(val_dataset, batch_size=BATCH_SIZE, shuffle=True, pin_memory=True, num_workers = 0)\n",
        "testLoader = torch.utils.data.DataLoader(test_dataset, batch_size=BATCH_SIZE, shuffle=False, pin_memory=True, num_workers = 0)"
      ],
      "metadata": {
        "id": "y7uDkrVEt1Jc"
      },
      "execution_count": null,
      "outputs": []
    },
    {
      "cell_type": "code",
      "source": [
        "in_size = len(mdf.rev_vocab)\n",
        "out_size = mdf.n_classes\n",
        "print(f'in = {in_size}, out = {out_size}')"
      ],
      "metadata": {
        "colab": {
          "base_uri": "https://localhost:8080/"
        },
        "outputId": "132d8b75-bd3d-44e8-c2e4-2e5642d9b234",
        "id": "nFjqoO2ct1Jc"
      },
      "execution_count": null,
      "outputs": [
        {
          "output_type": "stream",
          "name": "stdout",
          "text": [
            "in = 11190, out = 2\n"
          ]
        }
      ]
    },
    {
      "cell_type": "code",
      "source": [
        "model = Model(in_size, out_size).to(device)\n",
        "print(f'кол-во параметров в модели = {sum(p.numel() for p in model.parameters() if p.requires_grad)}')"
      ],
      "metadata": {
        "colab": {
          "base_uri": "https://localhost:8080/"
        },
        "outputId": "11d5cb6c-f9d5-4679-86b7-4b33db655f60",
        "id": "_g8kxY4ot1Jc"
      },
      "execution_count": null,
      "outputs": [
        {
          "output_type": "stream",
          "name": "stdout",
          "text": [
            "кол-во параметров в модели = 4394552\n"
          ]
        }
      ]
    },
    {
      "cell_type": "code",
      "source": [
        "next(model.parameters()).is_cuda"
      ],
      "metadata": {
        "colab": {
          "base_uri": "https://localhost:8080/"
        },
        "outputId": "dd107c99-d4dc-4025-97a2-ae267329407a",
        "id": "t2BtI6wmt1Jd"
      },
      "execution_count": null,
      "outputs": [
        {
          "output_type": "execute_result",
          "data": {
            "text/plain": [
              "True"
            ]
          },
          "metadata": {},
          "execution_count": 105
        }
      ]
    },
    {
      "cell_type": "code",
      "source": [
        "criterion = torch.nn.CrossEntropyLoss()\n",
        "optimizer = torch.optim.Adam(\n",
        "    model.parameters(),\n",
        "    lr=INIT_LR,\n",
        ")\n",
        "early_stopping = EarlyStopping(min_delta=0.005, tolerance=10)"
      ],
      "metadata": {
        "id": "fbCB2Mvwt1Jd"
      },
      "execution_count": null,
      "outputs": []
    },
    {
      "cell_type": "code",
      "source": [
        "train_loss = []\n",
        "val_loss = []\n",
        "for epoch in range(EPOCH):\n",
        "  epoch_train_loss = train_one_epoch(model, trainLoader, criterion, optimizer, device)\n",
        "  train_loss.append(epoch_train_loss)\n",
        "\n",
        "  with torch.no_grad():\n",
        "    epoch_val_loss = val_one_epoch(model, valLoader, criterion, device)\n",
        "    val_loss.append(epoch_val_loss)\n",
        "\n",
        "  early_stopping(epoch_val_loss)\n",
        "  if early_stopping.flag:\n",
        "    print(f'early stop at epoch №{epoch}')\n",
        "    break\n",
        "torch.cuda.empty_cache() if device == 'cuda' else None"
      ],
      "metadata": {
        "colab": {
          "base_uri": "https://localhost:8080/"
        },
        "outputId": "95afa922-f67d-47c1-e40e-cee23a39e043",
        "id": "VbTia1tvt1Jd"
      },
      "execution_count": null,
      "outputs": [
        {
          "output_type": "stream",
          "name": "stderr",
          "text": [
            "C:\\Users\\user\\AppData\\Local\\Programs\\Python\\Python311\\Lib\\site-packages\\torch\\nn\\modules\\module.py:1518: UserWarning: Implicit dimension choice for log_softmax has been deprecated. Change the call to include dim=X as an argument.\n",
            "  return self._call_impl(*args, **kwargs)\n"
          ]
        },
        {
          "output_type": "stream",
          "name": "stdout",
          "text": [
            "counter = 1\n",
            "counter = 2\n",
            "counter = 3\n",
            "counter = 4\n",
            "counter = 5\n",
            "counter = 6\n",
            "counter = 7\n",
            "counter = 8\n",
            "counter = 9\n",
            "counter = 10\n",
            "early stop at epoch №21\n"
          ]
        }
      ]
    },
    {
      "cell_type": "code",
      "source": [
        "df = pd.DataFrame({'val_loss': [np.mean(x) for x in val_loss], 'train_loss': [np.mean(x) for x in train_loss]})\n",
        "df.plot(kind='line')"
      ],
      "metadata": {
        "colab": {
          "base_uri": "https://localhost:8080/",
          "height": 447
        },
        "outputId": "eb624b81-a0c9-4060-aa1f-79e5cfc9cb0c",
        "id": "UrvnKjU8t1Jd"
      },
      "execution_count": null,
      "outputs": [
        {
          "output_type": "execute_result",
          "data": {
            "text/plain": [
              "<Axes: >"
            ]
          },
          "metadata": {},
          "execution_count": 108
        },
        {
          "output_type": "display_data",
          "data": {
            "text/plain": [
              "<Figure size 640x480 with 1 Axes>"
            ],
            "image/png": "[encoded data removed]"
          },
          "metadata": {}
        }
      ]
    },
    {
      "cell_type": "code",
      "source": [
        "with torch.no_grad():\n",
        "    test_data = test_model(model, testLoader, device, [0, 1])\n",
        "torch.cuda.empty_cache() if device == 'cuda' else None"
      ],
      "metadata": {
        "colab": {
          "base_uri": "https://localhost:8080/"
        },
        "outputId": "6224a75d-66c4-4e6d-9f8d-8f082995ae07",
        "id": "pvBuXUSSt1Jd"
      },
      "execution_count": null,
      "outputs": [
        {
          "output_type": "stream",
          "name": "stderr",
          "text": [
            "C:\\Users\\user\\AppData\\Local\\Programs\\Python\\Python311\\Lib\\site-packages\\torch\\nn\\modules\\module.py:1518: UserWarning: Implicit dimension choice for log_softmax has been deprecated. Change the call to include dim=X as an argument.\n",
            "  return self._call_impl(*args, **kwargs)\n"
          ]
        }
      ]
    },
    {
      "cell_type": "code",
      "source": [
        "overall_accuracy = test_data[1].item()/test_data[2]\n",
        "print(f'overall acc = {round(overall_accuracy*100,2)}%')"
      ],
      "metadata": {
        "colab": {
          "base_uri": "https://localhost:8080/"
        },
        "outputId": "fa23322e-330b-4863-9e7f-19b0d84335bf",
        "id": "Y06CEEDwt1Jd"
      },
      "execution_count": null,
      "outputs": [
        {
          "output_type": "stream",
          "name": "stdout",
          "text": [
            "overall acc = 72.91%\n"
          ]
        }
      ]
    },
    {
      "cell_type": "code",
      "source": [
        "from seaborn import heatmap\n",
        "heatmap(test_data[0])"
      ],
      "metadata": {
        "colab": {
          "base_uri": "https://localhost:8080/",
          "height": 447
        },
        "outputId": "c9012ee8-834b-4cb7-a642-365d7f6df9ea",
        "id": "wQUy0kqvt1Jd"
      },
      "execution_count": null,
      "outputs": [
        {
          "output_type": "execute_result",
          "data": {
            "text/plain": [
              "<Axes: >"
            ]
          },
          "metadata": {},
          "execution_count": 111
        },
        {
          "output_type": "display_data",
          "data": {
            "text/plain": [
              "<Figure size 640x480 with 2 Axes>"
            ],
            "image/png": "[encoded data removed]"
          },
          "metadata": {}
        }
      ]
    }
  ],
  "metadata": {
    "accelerator": "GPU",
    "colab": {
      "provenance": [],
      "collapsed_sections": [
        "ZxxvKBEzZj_c",
        "Xg5vY2i3Otbm",
        "YdPr92i6k-If",
        "yQmoIpHcZLve",
        "6dAEZ1lBZRO_",
        "P0UAYoIjZTWd"
      ]
    },
    "kernelspec": {
      "display_name": "Python 3",
      "language": "python",
      "name": "python3"
    },
    "language_info": {
      "codemirror_mode": {
        "name": "ipython",
        "version": 3
      },
      "file_extension": ".py",
      "mimetype": "text/x-python",
      "name": "python",
      "nbconvert_exporter": "python",
      "pygments_lexer": "ipython3",
      "version": "3.7.6"
    }
  },
  "nbformat": 4,
  "nbformat_minor": 0
}
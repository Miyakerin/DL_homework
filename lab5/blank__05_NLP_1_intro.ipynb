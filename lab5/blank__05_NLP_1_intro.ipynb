{
 "cells": [
  {
   "cell_type": "code",
   "execution_count": 1,
   "metadata": {
    "id": "XtFQP3RNll3c"
   },
   "outputs": [],
   "source": [
    "import re\n",
    "import nltk\n",
    "\n",
    "import torch\n",
    "from torch.utils.data import Dataset, DataLoader\n",
    "import torch.nn as nn\n",
    "import torch.optim as optim\n",
    "\n",
    "import pandas as pd\n",
    "from sklearn.model_selection import train_test_split\n",
    "from sklearn.metrics import accuracy_score\n",
    "from nltk.tokenize import word_tokenize\n",
    "from sklearn.preprocessing import LabelEncoder\n",
    "\n",
    "from itertools import chain\n",
    "import numpy as np\n",
    "\n",
    "from nltk.corpus import stopwords\n",
    "from nltk.stem import WordNetLemmatizer\n",
    "from nltk.tokenize import word_tokenize\n",
    "from nltk.stem.snowball import SnowballStemmer\n",
    "\n",
    "from tqdm.auto import tqdm"
   ]
  },
  {
   "cell_type": "markdown",
   "metadata": {
    "id": "9_hxkoXTvDgZ"
   },
   "source": [
    "## additional_funcs"
   ]
  },
  {
   "cell_type": "code",
   "execution_count": 20,
   "metadata": {
    "id": "CaZihg1wvGyn"
   },
   "outputs": [],
   "source": [
    "def train_one_epoch(model, train_dataloader, loss_func, optimizer, device):\n",
    "  model.train()\n",
    "  epoch_loss = []\n",
    "  for (local_batch, local_label) in train_dataloader:\n",
    "    (local_batch, local_label) = (local_batch.to(device), local_label.to(device))\n",
    "    optimizer.zero_grad()\n",
    "    y_pred = model.forward(local_batch)\n",
    "    curr_loss = criterion.forward(y_pred, local_label)\n",
    "    curr_loss.backward()\n",
    "    optimizer.step()\n",
    "    epoch_loss.append(curr_loss.item())\n",
    "  return np.mean(epoch_loss)\n",
    "\n",
    "#use with torch.no_grad()\n",
    "def val_one_epoch(model, val_dataloader, loss_func, device):\n",
    "  model.eval()\n",
    "  epoch_loss = []\n",
    "  for (local_batch, local_label) in val_dataloader:\n",
    "    (local_batch, local_label) = (local_batch.to(device), local_label.to(device))\n",
    "    y_pred = model.forward(local_batch)\n",
    "    curr_loss = criterion.forward(y_pred, local_label)\n",
    "    epoch_loss.append(curr_loss.item())\n",
    "  return np.mean(epoch_loss)\n",
    "\n",
    "def test_model(model, test_dataloader, device, classes):\n",
    "  model.eval()\n",
    "  test_hits = 0\n",
    "  total = 0\n",
    "  confusion_matrix = torch.zeros(len(classes), len(classes))\n",
    "  for (local_batch, local_label) in test_dataloader:\n",
    "    (local_batch, local_label) = (local_batch.to(device), local_label.to(device))\n",
    "    y_pred = model.forward(local_batch)\n",
    "    _, preds = torch.max(y_pred, 1)\n",
    "    _, local_label =  torch.max(local_label, 1)\n",
    "    test_hits += torch.sum(preds.view(-1) == local_label.view(-1))\n",
    "    total += torch.numel(preds.view(-1))\n",
    "    for t, p in zip(local_label.view(-1), preds.view(-1)):\n",
    "        confusion_matrix[t.long(), p.long()] += 1\n",
    "  return confusion_matrix, test_hits, total"
   ]
  },
  {
   "cell_type": "code",
   "execution_count": 3,
   "metadata": {
    "id": "34uMHJHIvL9K"
   },
   "outputs": [],
   "source": [
    "class EarlyStopping():\n",
    "  def __init__(self, min_delta=0.001, tolerance=20):\n",
    "    self.tolerance = tolerance\n",
    "    self.min_delta = min_delta\n",
    "    self.counter = 0\n",
    "    self.flag = False\n",
    "    self.min_loss = 1000\n",
    "\n",
    "  def __call__(self, val_loss):\n",
    "    if (val_loss - self.min_loss) > self.min_delta:\n",
    "      self.counter += 1\n",
    "      if self.counter >= self.tolerance:\n",
    "        self.flag = True\n",
    "    self.min_loss = val_loss if val_loss < self.min_loss else self.min_loss"
   ]
  },
  {
   "cell_type": "markdown",
   "metadata": {
    "id": "jqDHq_AEjRZ1",
    "jp-MarkdownHeadingCollapsed": true
   },
   "source": [
    "## 1. Представление и предобработка текстовых данных"
   ]
  },
  {
   "cell_type": "markdown",
   "metadata": {
    "id": "vaki7efDpmXo"
   },
   "source": [
    "1.1 Операции по предобработке:\n",
    "* токенизация\n",
    "* стемминг / лемматизация\n",
    "* удаление стоп-слов\n",
    "* удаление пунктуации\n",
    "* приведение к нижнему регистру\n",
    "* любые другие операции над текстом"
   ]
  },
  {
   "cell_type": "code",
   "execution_count": null,
   "metadata": {
    "id": "nHRy4jpYphEr"
   },
   "outputs": [],
   "source": [
    "from nltk.tokenize import word_tokenize, sent_tokenize\n",
    "from nltk.stem.snowball import SnowballStemmer"
   ]
  },
  {
   "cell_type": "code",
   "execution_count": 51,
   "metadata": {
    "id": "lMMzGhq0ikz1"
   },
   "outputs": [],
   "source": [
    "text = 'Select your preferences and run the install command! Stable represents the most currently tested and supported version of PyTorch. Note that LibTorch is only available for C++'"
   ]
  },
  {
   "cell_type": "markdown",
   "metadata": {
    "id": "bUhfertRtXE5"
   },
   "source": [
    "Реализовать функцию `preprocess_text(text: str)`, которая:\n",
    "* приводит строку к нижнему регистру\n",
    "* заменяет все символы, кроме a-z, A-Z и знаков .,!? на пробел\n"
   ]
  },
  {
   "cell_type": "code",
   "execution_count": 4,
   "metadata": {
    "id": "yeDA-oICBcKw"
   },
   "outputs": [],
   "source": [
    "def preprocess_text(text: str):\n",
    "    text = re.sub(r\"[^a-zA-Z.,!?]\", \" \", text).lower()\n",
    "    return text"
   ]
  },
  {
   "cell_type": "code",
   "execution_count": 55,
   "metadata": {
    "colab": {
     "base_uri": "https://localhost:8080/"
    },
    "id": "5s0LCEjVCscF",
    "outputId": "5fd7c5c0-f152-41a4-be32-c4aa132c42dc"
   },
   "outputs": [
    {
     "data": {
      "text/plain": [
       "'select your preferences and run the install command! stable represents the most currently tested and supported version of pytorch. note that libtorch is only available for c  '"
      ]
     },
     "execution_count": 55,
     "metadata": {},
     "output_type": "execute_result"
    }
   ],
   "source": [
    "preprocess_text(text)"
   ]
  },
  {
   "cell_type": "markdown",
   "metadata": {
    "id": "Z2Dt1ssIqckC"
   },
   "source": [
    "1.2 Представление текстовых данных при помощи бинарного кодирования\n",
    "\n",
    "\n",
    "Представить первое предложение из `text` в виде тензора `sentence_t`: `sentence_t[i] == 1`, если __слово__ с индексом `i` присуствует в предложении."
   ]
  },
  {
   "cell_type": "code",
   "execution_count": 5,
   "metadata": {
    "id": "CS8RRoe2WOY5"
   },
   "outputs": [],
   "source": [
    "def create_binlist(text: str):\n",
    "    sentences = nltk.tokenize.sent_tokenize(text)\n",
    "    tokens = list(chain.from_iterable([nltk.word_tokenize(re.sub(r'[^a-zA-Z ]', \"\",sentence)) for sentence in sentences]))\n",
    "    binlist = []\n",
    "    for token in tokens:\n",
    "        if token not in binlist:\n",
    "            binlist.append(token)\n",
    "    return binlist"
   ]
  },
  {
   "cell_type": "code",
   "execution_count": 6,
   "metadata": {
    "id": "8sPc2XciBcvc"
   },
   "outputs": [],
   "source": [
    "def to_tensor(bin_list: list, sentence: str):\n",
    "    sentence = list(nltk.tokenize.word_tokenize(sentence))\n",
    "    return [1 if word in sentence else 0 for word in bin_list]"
   ]
  },
  {
   "cell_type": "code",
   "execution_count": null,
   "metadata": {
    "colab": {
     "base_uri": "https://localhost:8080/"
    },
    "id": "ucbeTnTkW3cN",
    "outputId": "73c7b47c-2c65-4f89-8f36-1362d411127e"
   },
   "outputs": [
    {
     "name": "stdout",
     "output_type": "stream",
     "text": [
      "['select', 'your', 'preferences', 'and', 'run', 'the', 'install', 'command', 'stable', 'represents', 'most', 'currently', 'tested', 'supported', 'version', 'of', 'pytorch', 'note', 'that', 'libtorch', 'is', 'only', 'available', 'for', 'c']\n"
     ]
    }
   ],
   "source": [
    "binlist = create_binlist(preprocess_text(text))\n",
    "print(binlist)"
   ]
  },
  {
   "cell_type": "code",
   "execution_count": null,
   "metadata": {
    "id": "-rQXgiWuYs9p"
   },
   "outputs": [],
   "source": [
    "sent = re.sub(r\"[^a-zA-Z ]\", \"\", nltk.sent_tokenize(text)[1]).lower()"
   ]
  },
  {
   "cell_type": "code",
   "execution_count": null,
   "metadata": {
    "colab": {
     "base_uri": "https://localhost:8080/"
    },
    "id": "IMDySaSUFjQd",
    "outputId": "4f3c7f80-d375-49e2-d6ea-62e1f1c97ae5"
   },
   "outputs": [
    {
     "data": {
      "text/plain": [
       "[0, 0, 0, 1, 0, 1, 0, 0, 1, 1, 1, 1, 1, 1, 1, 1, 1, 0, 0, 0, 0, 0, 0, 0, 0]"
      ]
     },
     "execution_count": 44,
     "metadata": {},
     "output_type": "execute_result"
    }
   ],
   "source": [
    "to_tensor(binlist, sent)"
   ]
  },
  {
   "cell_type": "markdown",
   "metadata": {
    "id": "P2Nz_zcgw3N4"
   },
   "source": [
    "## 2. Классификация фамилий по национальности\n",
    "\n",
    "Датасет: https://disk.yandex.ru/d/owHew8hzPc7X9Q?w=1\n",
    "\n",
    "2.1 Считать файл `surnames/surnames.csv`.\n",
    "\n",
    "2.2 Закодировать национальности числами, начиная с 0.\n",
    "\n",
    "2.3 Разбить датасет на обучающую и тестовую выборку\n",
    "\n",
    "2.4 Реализовать класс `Vocab` (токен = __символ__)\n",
    "\n",
    "2.5 Реализовать класс `SurnamesDataset`\n",
    "\n",
    "2.6. Обучить классификатор.\n",
    "\n",
    "2.7 Измерить точность на тестовой выборке. Проверить работоспособность модели: прогнать несколько фамилий студентов группы через модели и проверить результат. Для каждой фамилии выводить 3 наиболее вероятных предсказания."
   ]
  },
  {
   "cell_type": "markdown",
   "metadata": {
    "id": "7C4-OOfGSNUq"
   },
   "source": [
    "### Датасет"
   ]
  },
  {
   "cell_type": "code",
   "execution_count": null,
   "metadata": {
    "id": "kUkSZkDqxNYS"
   },
   "outputs": [],
   "source": [
    "class Vocab:\n",
    "    def __init__(self, data:list): # data - list of tokens\n",
    "        self.create_binlist(data)\n",
    "\n",
    "        self.idx_to_token = {i: v for i,v in enumerate(self.binlist)}\n",
    "        self.token_to_idx = {v: i for i,v in enumerate(self.binlist)}\n",
    "        self.vocab_len = len(self.binlist)\n",
    "\n",
    "    def create_binlist(self, data):\n",
    "        self.binlist = []\n",
    "        for token in data:\n",
    "            if token not in self.binlist:\n",
    "                self.binlist.append(token)\n",
    "\n",
    "    def __len__(self):\n",
    "        return self.vocab_len"
   ]
  },
  {
   "cell_type": "code",
   "execution_count": 94,
   "metadata": {
    "id": "WCaRK1QHxe0A"
   },
   "outputs": [],
   "source": [
    "class SurnamesDataset(torch.utils.data.Dataset):\n",
    "    def __init__(self, path):\n",
    "        self.load_df(path)\n",
    "        self.preprocess_df()\n",
    "        self.sur_vocab = Vocab(list(chain.from_iterable([[x for x in word] for word in self.df['surname'].tolist()])))\n",
    "        self.nat_vocab = Vocab(self.df['nationality'].tolist())\n",
    "\n",
    "        self.X = self.df['surname'].tolist()\n",
    "        self.y = self.df['nationality'].tolist()\n",
    "\n",
    "\n",
    "\n",
    "    def preprocess_df(self):\n",
    "        self.df['surname'] = self.df['surname'].str.lower()\n",
    "        self.df['nationality'] = self.df['nationality'].str.lower()\n",
    "\n",
    "    def load_df(self, path):\n",
    "        self.df = pd.read_csv(path)\n",
    "\n",
    "    def vectorize(self, sample, type):\n",
    "        binlist = self.sur_vocab.binlist if type == 0 else self.nat_vocab.binlist\n",
    "        sample = [x for x in sample] if type == 0 else sample\n",
    "        return torch.tensor([1 if token in sample else 0 for token in binlist], dtype=torch.float32)\n",
    "\n",
    "    def __len__(self):\n",
    "        return len(self.X)\n",
    "\n",
    "    def __getitem__(self, idx):\n",
    "        return self.vectorize(self.X[idx], 0), self.vectorize(self.y[idx], 1)"
   ]
  },
  {
   "cell_type": "markdown",
   "metadata": {
    "id": "SWCSd3hcE-5a"
   },
   "source": [
    "### Модель"
   ]
  },
  {
   "cell_type": "code",
   "execution_count": null,
   "metadata": {
    "id": "h7tWrPFZtZfG"
   },
   "outputs": [],
   "source": [
    "class Model(torch.nn.Module):\n",
    "    def __init__(self, input_size, output_size):\n",
    "        super(Model, self).__init__()\n",
    "        self.linear = nn.Sequential(\n",
    "            nn.Linear(in_features=input_size, out_features=input_size*2),\n",
    "            nn.ReLU(),\n",
    "            nn.Dropout(0.25),\n",
    "            nn.Linear(in_features=input_size*2, out_features=input_size*4),\n",
    "            nn.ReLU(),\n",
    "            nn.Dropout(0.25),\n",
    "            nn.Linear(in_features=input_size*4, out_features=input_size*2),\n",
    "            nn.ReLU(),\n",
    "            nn.Dropout(0.25)\n",
    "        )\n",
    "        self.classificator = nn.Sequential(\n",
    "            nn.Linear(in_features=input_size*2, out_features=output_size),\n",
    "            nn.LogSoftmax()\n",
    "        )\n",
    "\n",
    "    def forward(self, x):\n",
    "        x = self.linear.forward(x)\n",
    "        x = self.classificator.forward(x)\n",
    "        return x"
   ]
  },
  {
   "cell_type": "markdown",
   "metadata": {
    "id": "U9HyiwZ-SURb"
   },
   "source": [
    "#### init"
   ]
  },
  {
   "cell_type": "code",
   "execution_count": null,
   "metadata": {
    "id": "jTemv5T8TT0z"
   },
   "outputs": [],
   "source": [
    "BATCH_SIZE = 200\n",
    "INIT_LR = 1e-3\n",
    "EPOCH = 150\n",
    "device = \"cuda\" if torch.cuda.is_available() else \"cpu\"\n",
    "torch.cuda.empty_cache() if device == 'cuda' else None"
   ]
  },
  {
   "cell_type": "code",
   "execution_count": 95,
   "metadata": {
    "id": "6h0x9zuTSVxT"
   },
   "outputs": [],
   "source": [
    "dataset = SurnamesDataset(r'C:\\Users\\user\\Desktop\\dz\\DL\\lab5\\data\\surnames.csv')"
   ]
  },
  {
   "cell_type": "code",
   "execution_count": null,
   "metadata": {
    "id": "cRS8fkA6S0vD"
   },
   "outputs": [],
   "source": [
    "trainSize = int(0.8*len(dataset))\n",
    "valSize = int(0.1*len(dataset))\n",
    "testSize = len(dataset) - trainSize - valSize\n",
    "train_dataset, val_dataset, test_dataset = torch.utils.data.random_split(dataset, [trainSize, valSize, testSize])"
   ]
  },
  {
   "cell_type": "code",
   "execution_count": null,
   "metadata": {
    "id": "WnyioipKTPy9"
   },
   "outputs": [],
   "source": [
    "trainLoader = torch.utils.data.DataLoader(train_dataset, batch_size=BATCH_SIZE, shuffle=True, pin_memory=True, num_workers = 0)\n",
    "valLoader = torch.utils.data.DataLoader(val_dataset, batch_size=BATCH_SIZE, shuffle=True, pin_memory=True, num_workers = 0)\n",
    "testLoader = torch.utils.data.DataLoader(test_dataset, batch_size=BATCH_SIZE, shuffle=False, pin_memory=True, num_workers = 0)"
   ]
  },
  {
   "cell_type": "code",
   "execution_count": null,
   "metadata": {
    "colab": {
     "base_uri": "https://localhost:8080/"
    },
    "id": "QoYnDM4YTlXJ",
    "outputId": "9a0eb556-7a9d-4f78-b494-c51fc88f9379"
   },
   "outputs": [
    {
     "name": "stdout",
     "output_type": "stream",
     "text": [
      "кол-во параметров в модели = 56888\n"
     ]
    }
   ],
   "source": [
    "model = Model(len(dataset.sur_vocab), len(dataset.nat_vocab)).to(device)\n",
    "print(f'кол-во параметров в модели = {sum(p.numel() for p in model.parameters() if p.requires_grad)}')"
   ]
  },
  {
   "cell_type": "code",
   "execution_count": null,
   "metadata": {
    "colab": {
     "base_uri": "https://localhost:8080/"
    },
    "id": "Yp-f6AVVVjOA",
    "outputId": "8d7603b9-9d10-4d1c-e96a-75a734de54be"
   },
   "outputs": [
    {
     "data": {
      "text/plain": [
       "True"
      ]
     },
     "execution_count": 34,
     "metadata": {},
     "output_type": "execute_result"
    }
   ],
   "source": [
    "next(model.parameters()).is_cuda"
   ]
  },
  {
   "cell_type": "code",
   "execution_count": null,
   "metadata": {
    "id": "oCRDWlLkVjQY"
   },
   "outputs": [],
   "source": [
    "criterion = torch.nn.CrossEntropyLoss()\n",
    "optimizer = torch.optim.Adam(\n",
    "    model.parameters(),\n",
    "    lr=INIT_LR,\n",
    ")\n",
    "early_stopping = EarlyStopping(min_delta=0.01, tolerance=10)"
   ]
  },
  {
   "cell_type": "markdown",
   "metadata": {
    "id": "mx8AVr66TYeK"
   },
   "source": [
    "#### model processing"
   ]
  },
  {
   "cell_type": "code",
   "execution_count": null,
   "metadata": {
    "colab": {
     "base_uri": "https://localhost:8080/"
    },
    "id": "2l27nI98TgdW",
    "outputId": "b9e21382-42cf-4c64-a2a8-b6e47ce7d139"
   },
   "outputs": [
    {
     "name": "stderr",
     "output_type": "stream",
     "text": [
      "C:\\Users\\user\\AppData\\Local\\Programs\\Python\\Python311\\Lib\\site-packages\\torch\\nn\\modules\\module.py:1518: UserWarning: Implicit dimension choice for log_softmax has been deprecated. Change the call to include dim=X as an argument.\n",
      "  return self._call_impl(*args, **kwargs)\n"
     ]
    },
    {
     "name": "stdout",
     "output_type": "stream",
     "text": [
      "early stop at epoch №40\n"
     ]
    }
   ],
   "source": [
    "train_loss = []\n",
    "val_loss = []\n",
    "for epoch in range(EPOCH):\n",
    "  epoch_train_loss = train_one_epoch(model, trainLoader, criterion, optimizer, device)\n",
    "  train_loss.append(epoch_train_loss)\n",
    "\n",
    "  with torch.no_grad():\n",
    "    epoch_val_loss = val_one_epoch(model, valLoader, criterion, device)\n",
    "    val_loss.append(epoch_val_loss)\n",
    "\n",
    "  early_stopping(epoch_val_loss)\n",
    "  if early_stopping.flag:\n",
    "    print(f'early stop at epoch №{epoch}')\n",
    "    break\n",
    "torch.cuda.empty_cache() if device == 'cuda' else None"
   ]
  },
  {
   "cell_type": "code",
   "execution_count": null,
   "metadata": {
    "colab": {
     "base_uri": "https://localhost:8080/",
     "height": 450
    },
    "id": "Qc0yeZijV-tZ",
    "outputId": "6d52c5bb-1e0d-46d2-9935-1d1b7b3b9d48"
   },
   "outputs": [
    {
     "data": {
      "text/plain": [
       "<Axes: >"
      ]
     },
     "execution_count": 39,
     "metadata": {},
     "output_type": "execute_result"
    },
    {
     "data": {
      "image/png": "[encoded data removed]",
      "text/plain": [
       "<Figure size 640x480 with 1 Axes>"
      ]
     },
     "metadata": {},
     "output_type": "display_data"
    }
   ],
   "source": [
    "df = pd.DataFrame({'val_loss': [np.mean(x) for x in val_loss], 'train_loss': [np.mean(x) for x in train_loss]})\n",
    "df.plot(kind='line')"
   ]
  },
  {
   "cell_type": "code",
   "execution_count": null,
   "metadata": {
    "id": "GgyZqB_yWG_K"
   },
   "outputs": [],
   "source": [
    "with torch.no_grad():\n",
    "    test_data = test_model(model, testLoader, device, dataset.nat_vocab)\n",
    "torch.cuda.empty_cache() if device == 'cuda' else None"
   ]
  },
  {
   "cell_type": "code",
   "execution_count": null,
   "metadata": {
    "colab": {
     "base_uri": "https://localhost:8080/"
    },
    "id": "5oZ8cuv1XM3k",
    "outputId": "8d338f49-86fb-42d8-a48a-1ed1fecb863a"
   },
   "outputs": [
    {
     "name": "stdout",
     "output_type": "stream",
     "text": [
      "overall acc = 66.3%\n"
     ]
    }
   ],
   "source": [
    "overall_accuracy = test_data[1].item()/test_data[2]\n",
    "print(f'overall acc = {round(overall_accuracy*100,2)}%')"
   ]
  },
  {
   "cell_type": "code",
   "execution_count": null,
   "metadata": {
    "colab": {
     "base_uri": "https://localhost:8080/",
     "height": 447
    },
    "id": "hO6tFoPQXO1l",
    "outputId": "8c31dba9-a6d9-4a57-a8e3-f530c3067ae1"
   },
   "outputs": [
    {
     "data": {
      "text/plain": [
       "<Axes: >"
      ]
     },
     "execution_count": 54,
     "metadata": {},
     "output_type": "execute_result"
    },
    {
     "data": {
      "image/png": "[encoded data removed]",
      "text/plain": [
       "<Figure size 640x480 with 2 Axes>"
      ]
     },
     "metadata": {},
     "output_type": "display_data"
    }
   ],
   "source": [
    "from seaborn import heatmap\n",
    "heatmap(test_data[0])"
   ]
  },
  {
   "cell_type": "code",
   "execution_count": null,
   "metadata": {
    "colab": {
     "base_uri": "https://localhost:8080/"
    },
    "id": "dJBaqXqwXYQS",
    "outputId": "4318c30f-c068-4a7d-8904-89ad1e8dfb48"
   },
   "outputs": [
    {
     "name": "stderr",
     "output_type": "stream",
     "text": [
      "C:\\Users\\user\\AppData\\Local\\Programs\\Python\\Python311\\Lib\\site-packages\\torch\\nn\\modules\\module.py:1518: UserWarning: Implicit dimension choice for log_softmax has been deprecated. Change the call to include dim=X as an argument.\n",
      "  return self._call_impl(*args, **kwargs)\n"
     ]
    }
   ],
   "source": [
    "students = ['Alueva', 'Sultonov', 'Mikhailenko']\n",
    "students = [dataset.vectorize(x.lower(), 0) for x in students]\n",
    "students = torch.stack(students).to(device)\n",
    "\n",
    "preds = model.forward(students)"
   ]
  },
  {
   "cell_type": "code",
   "execution_count": null,
   "metadata": {
    "colab": {
     "base_uri": "https://localhost:8080/"
    },
    "id": "tKElCYoQZsbR",
    "outputId": "1dc0256d-8ec4-42e4-9919-be2be88ca517"
   },
   "outputs": [
    {
     "data": {
      "text/plain": [
       "tensor([3, 3, 3], device='cuda:0')"
      ]
     },
     "execution_count": 68,
     "metadata": {},
     "output_type": "execute_result"
    }
   ],
   "source": [
    "_, preds = torch.max(preds, 1)\n",
    "preds"
   ]
  },
  {
   "cell_type": "code",
   "execution_count": null,
   "metadata": {
    "colab": {
     "base_uri": "https://localhost:8080/"
    },
    "id": "s4xPvvtsZ2Yw",
    "outputId": "2e9c24bd-7acd-470f-93f1-7b2f19bf5a89"
   },
   "outputs": [
    {
     "data": {
      "text/plain": [
       "['russian', 'russian', 'russian']"
      ]
     },
     "execution_count": 70,
     "metadata": {},
     "output_type": "execute_result"
    }
   ],
   "source": [
    "nat_list = [dataset.nat_vocab.idx_to_token[x] for x in preds.cpu().tolist()]\n",
    "nat_list"
   ]
  },
  {
   "cell_type": "markdown",
   "metadata": {
    "id": "PLmDB3fJtVox"
   },
   "source": [
    "## 3. Классификация обзоров ресторанов\n",
    "\n",
    "Датасет: https://disk.yandex.ru/d/nY1o70JtAuYa8g\n",
    "\n",
    "3.1 Считать файл `yelp/raw_train.csv`. Оставить от исходного датасета 10% строчек.\n",
    "\n",
    "3.2 Воспользоваться функцией `preprocess_text` из 1.1 для обработки текста отзыва. Закодировать рейтинг числами, начиная с 0.\n",
    "\n",
    "3.3 Разбить датасет на обучающую и тестовую выборку\n",
    "\n",
    "3.4 Реализовать класс `Vocab` (токен = слово)\n",
    "\n",
    "3.5 Реализовать класс `ReviewDataset`\n",
    "\n",
    "3.6 Обучить классификатор\n",
    "\n",
    "3.7 Измерить точность на тестовой выборке. Проверить работоспособность модели: придумать небольшой отзыв, прогнать его через модель и вывести номер предсказанного класса (сделать это для явно позитивного и явно негативного отзыва)\n"
   ]
  },
  {
   "cell_type": "markdown",
   "metadata": {},
   "source": [
    "### Датасет"
   ]
  },
  {
   "cell_type": "code",
   "execution_count": 4,
   "metadata": {},
   "outputs": [],
   "source": [
    "# Мной принято решение, что использовать векторизацию, данную в 1ом задании для 2го просто около бессмысленно, а для 3го еще и слишком ресурсозатрано\n",
    "# Потому архитектуру датасета и модели оставляю за собой "
   ]
  },
  {
   "cell_type": "code",
   "execution_count": 4,
   "metadata": {
    "id": "SZfeIZPD9HV_"
   },
   "outputs": [],
   "source": [
    "def normalize_text(text: str):\n",
    "\n",
    "    stemmer = SnowballStemmer('english')\n",
    "    stop_words = set(stopwords.words('english'))\n",
    "    lemmatizer = WordNetLemmatizer()\n",
    "\n",
    "    text = re.sub(r\"[^a-zA-Z.,!?]\", \" \", text).lower()\n",
    "    tokens = word_tokenize(text)\n",
    "    tokens = [lemmatizer.lemmatize(token) for token in tokens if token not in stop_words]\n",
    "    tokens = [stemmer.stem(token) for token in tokens]\n",
    "    return tokens"
   ]
  },
  {
   "cell_type": "code",
   "execution_count": 5,
   "metadata": {
    "id": "_lCTSKZgu68K"
   },
   "outputs": [],
   "source": [
    "class Vocab:\n",
    "    def __init__(self, data:list, start=0, num_words=5000): # data - list of tokens\n",
    "        self.create_count_dict(data)\n",
    "        self.token_to_count = dict(sorted(self.token_to_count.items(), key = lambda x: x[1], reverse=True)[0:num_words])\n",
    "\n",
    "        self.idx_to_token = {i+start: v for i,v in enumerate(self.token_to_count.keys())}\n",
    "        self.token_to_idx = {v: i+start for i,v in enumerate(self.token_to_count.keys())}\n",
    "        self.vocab_len = len(self.token_to_count.keys())\n",
    "\n",
    "    def create_count_dict(self, data):\n",
    "        self.token_to_count = {}\n",
    "        for token in data:\n",
    "            if token not in self.token_to_count.keys():\n",
    "                self.token_to_count[token] = 1\n",
    "            else:\n",
    "                self.token_to_count[token] += 1\n",
    "\n",
    "    def __len__(self):\n",
    "        return self.vocab_len"
   ]
  },
  {
   "cell_type": "code",
   "execution_count": 6,
   "metadata": {
    "id": "WXLmCDvcvRmb"
   },
   "outputs": [],
   "source": [
    "class ReviewDataset(Dataset):\n",
    "    def __init__(self, path, topwords_num = 5000):\n",
    "        self.load_df(path)\n",
    "        self.preprocess_df()\n",
    "\n",
    "        self.score_vocab = Vocab(self.df['score'].tolist(), num_words=2)\n",
    "        self.review_vocab = Vocab(list(chain.from_iterable([[x for x in seq] for seq in self.df['review'].tolist()])), start=1, num_words = topwords_num)\n",
    "\n",
    "        self.X = self.df['review'].tolist()\n",
    "        self.y = self.df['score'].tolist()\n",
    "\n",
    "        self.rev_max_len = len(max(self.df['review'], key=len))\n",
    "\n",
    "    def load_df(self, path):\n",
    "        self.df = pd.read_csv(path, delimiter=\",\", header=None, names=['score', 'review'], skiprows=lambda x: x%10 != 0)\n",
    "\n",
    "    def preprocess_df(self):\n",
    "        self.df['review'] = self.df['review'].apply(normalize_text)\n",
    "\n",
    "    def vectorize(self, sample, type):\n",
    "        vocab = self.review_vocab if type == 0 else self.score_vocab\n",
    "        sample = [sample] if type == 1 else sample\n",
    "        if type == 0:\n",
    "            sample = [vocab.token_to_idx.get(token, 0) for token in sample]\n",
    "            if (len(sample) <= self.rev_max_len):\n",
    "                zeros = list(np.zeros(self.rev_max_len - len(sample)).astype(int))\n",
    "                sample = zeros + sample\n",
    "            else:\n",
    "                sample = sample[: self.rev_max_len]\n",
    "            return torch.tensor(sample)\n",
    "        else:\n",
    "            return torch.tensor([1 if token in sample else 0 for token in vocab.token_to_count.keys()], dtype=torch.float32)\n",
    "\n",
    "    def __len__(self):\n",
    "        return len(self.X)\n",
    "\n",
    "    def __getitem__(self, idx):\n",
    "        return self.vectorize(self.X[idx], 0), self.vectorize(self.y[idx], 1)"
   ]
  },
  {
   "cell_type": "code",
   "execution_count": 7,
   "metadata": {
    "id": "-wYf6GJSEo2L"
   },
   "outputs": [],
   "source": [
    "path = r'C:\\Users\\user\\Desktop\\dz\\DL\\lab5\\data\\raw_train.csv'"
   ]
  },
  {
   "cell_type": "code",
   "execution_count": 8,
   "metadata": {
    "id": "GuigwcDb_69b"
   },
   "outputs": [],
   "source": [
    "dataset = ReviewDataset(path, topwords_num = 3000)"
   ]
  },
  {
   "cell_type": "code",
   "execution_count": 23,
   "metadata": {
    "id": "u4ir4sVqEg2Q"
   },
   "outputs": [],
   "source": [
    "BATCH_SIZE = 2000\n",
    "INIT_LR = 1e-3\n",
    "EPOCH = 150\n",
    "device = \"cuda\" if torch.cuda.is_available() else \"cpu\"\n",
    "torch.cuda.empty_cache() if device == 'cuda' else None"
   ]
  },
  {
   "cell_type": "code",
   "execution_count": 24,
   "metadata": {
    "id": "WSeee5saEg2Q"
   },
   "outputs": [],
   "source": [
    "trainSize = int(0.8*len(dataset))\n",
    "valSize = int(0.1*len(dataset))\n",
    "testSize = len(dataset) - trainSize - valSize\n",
    "train_dataset, val_dataset, test_dataset = torch.utils.data.random_split(dataset, [trainSize, valSize, testSize])"
   ]
  },
  {
   "cell_type": "code",
   "execution_count": 25,
   "metadata": {
    "id": "Z-HY6pNrEg2Q"
   },
   "outputs": [],
   "source": [
    "trainLoader = torch.utils.data.DataLoader(train_dataset, batch_size=BATCH_SIZE, shuffle=True, pin_memory=True, num_workers = 0)\n",
    "valLoader = torch.utils.data.DataLoader(val_dataset, batch_size=BATCH_SIZE, shuffle=True, pin_memory=True, num_workers = 0)\n",
    "testLoader = torch.utils.data.DataLoader(test_dataset, batch_size=BATCH_SIZE, shuffle=False, pin_memory=True, num_workers = 0)"
   ]
  },
  {
   "cell_type": "markdown",
   "metadata": {
    "id": "SVjsw5gf3GKw"
   },
   "source": [
    "### Модель"
   ]
  },
  {
   "cell_type": "code",
   "execution_count": 13,
   "metadata": {},
   "outputs": [],
   "source": [
    "class sshape(torch.nn.Module):\n",
    "    def forward(self, x):\n",
    "        print(x.shape)\n",
    "        return x"
   ]
  },
  {
   "cell_type": "code",
   "execution_count": 14,
   "metadata": {},
   "outputs": [],
   "source": [
    "class Transpose(torch.nn.Module):\n",
    "    def __init__(self, dim0, dim1):\n",
    "        super(Transpose, self).__init__()\n",
    "        self.dim0 = dim0\n",
    "        self.dim1 = dim1\n",
    "        \n",
    "    def forward(self, x):\n",
    "        x = torch.transpose(x, self.dim0, self.dim1)\n",
    "        return x"
   ]
  },
  {
   "cell_type": "code",
   "execution_count": 15,
   "metadata": {},
   "outputs": [],
   "source": [
    "class GetFeaturesFromRNN(torch.nn.Module):\n",
    "    def forward(self, x):\n",
    "        x, _ = x\n",
    "        if len(x.shape) == 3:\n",
    "            return x[:, -1, :]\n",
    "        elif len(x.shape) == 2:\n",
    "            return x[:, -1]"
   ]
  },
  {
   "cell_type": "code",
   "execution_count": 16,
   "metadata": {
    "id": "w2eWxP-G4Aau"
   },
   "outputs": [],
   "source": [
    "class Model(torch.nn.Module):\n",
    "    def __init__(self, input_size, output_size): #input_size - len of rev dict\n",
    "        super(Model, self).__init__()\n",
    "        self.features = nn.Sequential(\n",
    "            nn.Embedding(input_size+1, embedding_dim=200, padding_idx=0),\n",
    "            nn.Dropout(0.25),\n",
    "            Transpose(dim0=1, dim1=2),\n",
    "            nn.Conv1d(in_channels=200, out_channels=50, kernel_size=3, stride=1, padding=0, dilation=1),\n",
    "            nn.ReLU(),\n",
    "            nn.Dropout(0.25),\n",
    "            nn.MaxPool1d(2),\n",
    "            Transpose(dim0=1, dim1=2),\n",
    "            nn.LSTM(50, 200, num_layers=3, batch_first=True, dropout=0.5),\n",
    "            GetFeaturesFromRNN()\n",
    "        )\n",
    "        self.classificator = nn.Sequential(\n",
    "            nn.Linear(in_features=200, out_features=output_size),\n",
    "            nn.LogSoftmax()\n",
    "        )\n",
    "\n",
    "    def forward(self, x):\n",
    "        x = self.features.forward(x)\n",
    "        x = torch.flatten(x, 1)\n",
    "        x = self.classificator.forward(x)\n",
    "        return x"
   ]
  },
  {
   "cell_type": "code",
   "execution_count": 26,
   "metadata": {},
   "outputs": [],
   "source": [
    "in_size = len(dataset.review_vocab.token_to_count.keys())\n",
    "out_size = len(dataset.score_vocab)"
   ]
  },
  {
   "cell_type": "code",
   "execution_count": 27,
   "metadata": {
    "colab": {
     "base_uri": "https://localhost:8080/"
    },
    "id": "rEfVWQ_XGVoZ",
    "outputId": "652b25d1-a69a-4e87-ed78-16e8a05c450b"
   },
   "outputs": [
    {
     "name": "stdout",
     "output_type": "stream",
     "text": [
      "кол-во параметров в модели = 1475452\n"
     ]
    }
   ],
   "source": [
    "model = Model(in_size, out_size).to(device)\n",
    "print(f'кол-во параметров в модели = {sum(p.numel() for p in model.parameters() if p.requires_grad)}')"
   ]
  },
  {
   "cell_type": "code",
   "execution_count": 28,
   "metadata": {
    "colab": {
     "base_uri": "https://localhost:8080/"
    },
    "id": "DEuhDYluGVof",
    "outputId": "4f154fe4-9786-4e07-cc94-a9eb7b2eeebe"
   },
   "outputs": [
    {
     "data": {
      "text/plain": [
       "True"
      ]
     },
     "execution_count": 28,
     "metadata": {},
     "output_type": "execute_result"
    }
   ],
   "source": [
    "next(model.parameters()).is_cuda"
   ]
  },
  {
   "cell_type": "code",
   "execution_count": 29,
   "metadata": {
    "id": "17QfrQF3GVof"
   },
   "outputs": [],
   "source": [
    "criterion = torch.nn.CrossEntropyLoss()\n",
    "optimizer = torch.optim.Adam(\n",
    "    model.parameters(),\n",
    "    lr=INIT_LR,\n",
    ")\n",
    "early_stopping = EarlyStopping(min_delta=0.01, tolerance=10)"
   ]
  },
  {
   "cell_type": "markdown",
   "metadata": {
    "id": "fzte5tMzGVof"
   },
   "source": [
    "#### model processing"
   ]
  },
  {
   "cell_type": "code",
   "execution_count": 30,
   "metadata": {
    "colab": {
     "base_uri": "https://localhost:8080/",
     "height": 1000
    },
    "id": "kwfFl57aGVof",
    "outputId": "3b356b0b-88be-4f6d-8824-a55f47548d27"
   },
   "outputs": [
    {
     "data": {
      "application/vnd.jupyter.widget-view+json": {
       "model_id": "c835d7a4b217460dbc214429aa6eb212",
       "version_major": 2,
       "version_minor": 0
      },
      "text/plain": [
       "HBox(children=(IntProgress(value=0, max=150), HTML(value='')))"
      ]
     },
     "metadata": {},
     "output_type": "display_data"
    },
    {
     "name": "stdout",
     "output_type": "stream",
     "text": [
      "early stop at epoch №37\n"
     ]
    }
   ],
   "source": [
    "train_loss = []\n",
    "val_loss = []\n",
    "for epoch in tqdm(range(EPOCH)):\n",
    "    epoch_train_loss = train_one_epoch(model, trainLoader, criterion, optimizer, device)\n",
    "    train_loss.append(epoch_train_loss)\n",
    "    \n",
    "    with torch.no_grad():\n",
    "        epoch_val_loss = val_one_epoch(model, valLoader, criterion, device)\n",
    "        val_loss.append(epoch_val_loss)\n",
    "    \n",
    "    early_stopping(epoch_val_loss)\n",
    "    if early_stopping.flag:\n",
    "        print(f'early stop at epoch №{epoch}')\n",
    "        break\n",
    "torch.cuda.empty_cache() if device == 'cuda' else None"
   ]
  },
  {
   "cell_type": "code",
   "execution_count": 31,
   "metadata": {
    "colab": {
     "base_uri": "https://localhost:8080/",
     "height": 450
    },
    "id": "kW9AHSfTGVof",
    "outputId": "6d52c5bb-1e0d-46d2-9935-1d1b7b3b9d48"
   },
   "outputs": [
    {
     "data": {
      "text/plain": [
       "<Axes: >"
      ]
     },
     "execution_count": 31,
     "metadata": {},
     "output_type": "execute_result"
    },
    {
     "data": {
      "image/png": "[encoded data removed]",
      "text/plain": [
       "<Figure size 640x480 with 1 Axes>"
      ]
     },
     "metadata": {},
     "output_type": "display_data"
    }
   ],
   "source": [
    "df = pd.DataFrame({'val_loss': [np.mean(x) for x in val_loss], 'train_loss': [np.mean(x) for x in train_loss]})\n",
    "df.plot(kind='line')"
   ]
  },
  {
   "cell_type": "code",
   "execution_count": 33,
   "metadata": {
    "id": "hmTEs9rXGVof"
   },
   "outputs": [
    {
     "name": "stderr",
     "output_type": "stream",
     "text": [
      "C:\\Users\\user\\AppData\\Local\\Programs\\Python\\Python311\\Lib\\site-packages\\torch\\nn\\modules\\module.py:1518: UserWarning: Implicit dimension choice for log_softmax has been deprecated. Change the call to include dim=X as an argument.\n",
      "  return self._call_impl(*args, **kwargs)\n"
     ]
    }
   ],
   "source": [
    "with torch.no_grad():\n",
    "    test_data = test_model(model, testLoader, device, dataset.review_vocab)\n",
    "torch.cuda.empty_cache() if device == 'cuda' else None"
   ]
  },
  {
   "cell_type": "code",
   "execution_count": 34,
   "metadata": {
    "colab": {
     "base_uri": "https://localhost:8080/"
    },
    "id": "D88cRAdSGVof",
    "outputId": "8d338f49-86fb-42d8-a48a-1ed1fecb863a"
   },
   "outputs": [
    {
     "name": "stdout",
     "output_type": "stream",
     "text": [
      "overall acc = 91.29%\n"
     ]
    }
   ],
   "source": [
    "overall_accuracy = test_data[1].item()/test_data[2]\n",
    "print(f'overall acc = {round(overall_accuracy*100,2)}%')"
   ]
  },
  {
   "cell_type": "code",
   "execution_count": 41,
   "metadata": {
    "colab": {
     "base_uri": "https://localhost:8080/"
    },
    "id": "TUSec51WGVog",
    "outputId": "4318c30f-c068-4a7d-8904-89ad1e8dfb48"
   },
   "outputs": [
    {
     "name": "stderr",
     "output_type": "stream",
     "text": [
      "C:\\Users\\user\\AppData\\Local\\Programs\\Python\\Python311\\Lib\\site-packages\\torch\\nn\\modules\\module.py:1518: UserWarning: Implicit dimension choice for log_softmax has been deprecated. Change the call to include dim=X as an argument.\n",
      "  return self._call_impl(*args, **kwargs)\n"
     ]
    }
   ],
   "source": [
    "rev = [\n",
    "    \"Ordered a large Mango-Pineapple smoothie. Stayed in line 5 minutes from the time I ordered. Which was okay, I made sure I started out 10 minutes early for the trip. $3.64 for a large. Got to the window stayed an additional 3 minutes. No big deal. Until...... Ma'am We no have Mango. We have Um.. Strawberry. Reluctantly I said Ok... It's just Strawberry right? Not Strawberry-Banana? Si Strawberry- Banana. Side note...( I don't like Strawberry- Banana) No ma'am I would just like my money back... refund please... she gave me $3.53 back? Wasted my time and made a profit! Geez!!\",\n",
    "    \"The best fast food Hamburger ever!!!! This In-N-Out on the west side is great.\"  \n",
    "      ]\n",
    "rev = [normalize_text(x) for x in rev]\n",
    "vec = torch.stack([dataset.vectorize(x, 0) for x in rev]).to(device)\n",
    "\n",
    "preds = model.forward(vec)"
   ]
  },
  {
   "cell_type": "code",
   "execution_count": 44,
   "metadata": {},
   "outputs": [
    {
     "data": {
      "text/plain": [
       "tensor([0, 1], device='cuda:0')"
      ]
     },
     "execution_count": 44,
     "metadata": {},
     "output_type": "execute_result"
    }
   ],
   "source": [
    "_, preds = torch.max(preds, 1)\n",
    "preds"
   ]
  }
 ],
 "metadata": {
  "colab": {
   "collapsed_sections": [
    "jqDHq_AEjRZ1"
   ],
   "provenance": []
  },
  "kernelspec": {
   "display_name": "Python 3 (ipykernel)",
   "language": "python",
   "name": "python3"
  },
  "language_info": {
   "codemirror_mode": {
    "name": "ipython",
    "version": 3
   },
   "file_extension": ".py",
   "mimetype": "text/x-python",
   "name": "python",
   "nbconvert_exporter": "python",
   "pygments_lexer": "ipython3",
   "version": "3.11.6"
  }
 },
 "nbformat": 4,
 "nbformat_minor": 4
}

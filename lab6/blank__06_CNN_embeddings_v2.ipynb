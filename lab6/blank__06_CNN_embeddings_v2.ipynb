{
  "nbformat": 4,
  "nbformat_minor": 0,
  "metadata": {
    "colab": {
      "provenance": [],
      "collapsed_sections": [
        "gnhDuZxl8cIG",
        "E7kz2Hj8L4UL"
      ]
    },
    "kernelspec": {
      "name": "python3",
      "display_name": "Python 3"
    },
    "language_info": {
      "name": "python"
    }
  },
  "cells": [
    {
      "cell_type": "code",
      "metadata": {
        "id": "XtFQP3RNll3c",
        "colab": {
          "base_uri": "https://localhost:8080/"
        },
        "outputId": "e770d90b-ec43-458c-8945-0f9a92a98f4d"
      },
      "source": [
        "import re\n",
        "import nltk\n",
        "\n",
        "import torch\n",
        "from torch.utils.data import Dataset, DataLoader\n",
        "import torch.nn as nn\n",
        "import torch.optim as optim\n",
        "\n",
        "import pandas as pd\n",
        "from sklearn.model_selection import train_test_split\n",
        "from sklearn.metrics import accuracy_score\n",
        "from nltk.tokenize import word_tokenize\n",
        "from sklearn.preprocessing import LabelEncoder\n",
        "nltk.download('punkt')\n",
        "import numpy as np\n",
        "import torchvision\n",
        "import random\n",
        "\n",
        "from itertools import chain"
      ],
      "execution_count": null,
      "outputs": [
        {
          "output_type": "stream",
          "name": "stderr",
          "text": [
            "[nltk_data] Downloading package punkt to\n",
            "[nltk_data]     C:\\Users\\user\\AppData\\Roaming\\nltk_data...\n",
            "[nltk_data]   Package punkt is already up-to-date!\n"
          ]
        }
      ]
    },
    {
      "cell_type": "markdown",
      "source": [
        "## Доп.Ф-ции"
      ],
      "metadata": {
        "id": "gnhDuZxl8cIG"
      }
    },
    {
      "cell_type": "code",
      "source": [
        "class Vocab:\n",
        "    def __init__(self, data:list, start=0, num_words=5000): # data - list of tokens\n",
        "        self.create_count_dict(data)\n",
        "        self.token_to_count = dict(sorted(self.token_to_count.items(), key = lambda x: x[1], reverse=True)[0:num_words])\n",
        "\n",
        "        self.idx_to_token = {i+start: v for i,v in enumerate(self.token_to_count.keys())}\n",
        "        self.token_to_idx = {v: i+start for i,v in enumerate(self.token_to_count.keys())}\n",
        "        self.vocab_len = len(self.token_to_count.keys())\n",
        "\n",
        "\n",
        "    def create_count_dict(self, data):\n",
        "        self.token_to_count = {}\n",
        "        for token in data:\n",
        "            if token not in self.token_to_count.keys():\n",
        "                self.token_to_count[token] = 1\n",
        "            else:\n",
        "                self.token_to_count[token] += 1\n",
        "\n",
        "    def __len__(self):\n",
        "        return self.vocab_len"
      ],
      "metadata": {
        "id": "0_ylCeqz8d5l"
      },
      "execution_count": null,
      "outputs": []
    },
    {
      "cell_type": "code",
      "source": [
        "def create_uni_vec(vocab, sent): # sent: list, list of tokens\n",
        "    new_seq = torch.stack([torch.tensor([1 if token == sample else 0 for token in vocab.token_to_count.keys()]) for sample in sent])\n",
        "    return new_seq\n",
        "\n",
        "def create_idx_vec(vocab, sent): #sent: list, list of tokens\n",
        "    new_seq = torch.tensor([vocab.token_to_idx[item] for item in sent])\n",
        "    return new_seq"
      ],
      "metadata": {
        "id": "LxadC0vJMgD9"
      },
      "execution_count": null,
      "outputs": []
    },
    {
      "cell_type": "code",
      "source": [
        "class EarlyStopping():\n",
        "  def __init__(self, min_delta=0.001, tolerance=20):\n",
        "    self.tolerance = tolerance\n",
        "    self.min_delta = min_delta\n",
        "    self.counter = 0\n",
        "    self.flag = False\n",
        "    self.min_loss = 1000\n",
        "\n",
        "  def __call__(self, val_loss):\n",
        "    if (val_loss - self.min_loss) > self.min_delta:\n",
        "      self.counter += 1\n",
        "      print(f'counter = {self.counter}')\n",
        "      if self.counter >= self.tolerance:\n",
        "        self.flag = True\n",
        "    self.min_loss = val_loss if val_loss < self.min_loss else self.min_loss"
      ],
      "metadata": {
        "id": "xpICQ8WaNL7I"
      },
      "execution_count": null,
      "outputs": []
    },
    {
      "cell_type": "code",
      "source": [
        "def train_one_epoch(model, train_dataloader, loss_func, optimizer, device):\n",
        "  model.train()\n",
        "  epoch_loss = []\n",
        "  for (local_batch, local_label) in train_dataloader:\n",
        "    (local_batch, local_label) = (local_batch.to(device), local_label.to(device))\n",
        "    optimizer.zero_grad()\n",
        "    y_pred = model.forward(local_batch)\n",
        "    curr_loss = criterion.forward(y_pred, local_label)\n",
        "    curr_loss.backward()\n",
        "    optimizer.step()\n",
        "    epoch_loss.append(curr_loss.item())\n",
        "  return np.mean(epoch_loss)\n",
        "\n",
        "#use with torch.no_grad()\n",
        "def val_one_epoch(model, val_dataloader, loss_func, device):\n",
        "  model.eval()\n",
        "  epoch_loss = []\n",
        "  for (local_batch, local_label) in val_dataloader:\n",
        "    (local_batch, local_label) = (local_batch.to(device), local_label.to(device))\n",
        "    y_pred = model.forward(local_batch)\n",
        "    curr_loss = criterion.forward(y_pred, local_label)\n",
        "    epoch_loss.append(curr_loss.item())\n",
        "  return np.mean(epoch_loss)\n",
        "\n",
        "def test_model(model, test_dataloader, device, classes):\n",
        "  model.eval()\n",
        "  test_hits = 0\n",
        "  total = 0\n",
        "  confusion_matrix = torch.zeros(len(classes), len(classes))\n",
        "  for (local_batch, local_label) in test_dataloader:\n",
        "    (local_batch, local_label) = (local_batch.to(device), local_label.to(device))\n",
        "    y_pred = model.forward(local_batch)\n",
        "    _, preds = torch.max(y_pred, 1)\n",
        "    test_hits += torch.sum(preds.view(-1) == local_label.view(-1))\n",
        "    total += torch.numel(preds.view(-1))\n",
        "    for t, p in zip(local_label.view(-1), preds.view(-1)):\n",
        "        confusion_matrix[t.long(), p.long()] += 1\n",
        "  return confusion_matrix, test_hits, total"
      ],
      "metadata": {
        "id": "qIw8F2JONM6e"
      },
      "execution_count": null,
      "outputs": []
    },
    {
      "cell_type": "markdown",
      "metadata": {
        "id": "tx75RigN8xIJ"
      },
      "source": [
        "## 1. Представление и предобработка текстовых данных в виде последовательностей"
      ]
    },
    {
      "cell_type": "markdown",
      "metadata": {
        "id": "LScKIAey9dAM"
      },
      "source": [
        "1.1 Представьте первое предложение из строки `text` как последовательность из индексов слов, входящих в это предложение"
      ]
    },
    {
      "cell_type": "code",
      "metadata": {
        "id": "phEw721T9SYW"
      },
      "source": [
        "text = 'Select your preferences and run the install command. Stable represents the most currently tested and supported version of PyTorch. Note that LibTorch is only available for C++'"
      ],
      "execution_count": null,
      "outputs": []
    },
    {
      "cell_type": "code",
      "source": [
        "tokens = list(nltk.word_tokenize(re.sub(r\"[^a-zA-Z]\", \" \", text)))\n",
        "sent = nltk.sent_tokenize(text)\n",
        "sent = nltk.word_tokenize(re.sub(r\"[^a-zA-Z]\", \" \", sent[0]))\n",
        "voc1 = Vocab(tokens)"
      ],
      "metadata": {
        "id": "yOEUyFFQAPrQ"
      },
      "execution_count": null,
      "outputs": []
    },
    {
      "cell_type": "code",
      "source": [
        "print(create_idx_vec(voc1, sent))"
      ],
      "metadata": {
        "colab": {
          "base_uri": "https://localhost:8080/"
        },
        "id": "48U7eUReNZXr",
        "outputId": "d0e33679-bc77-4c0a-fdac-591174ea3b0c"
      },
      "execution_count": null,
      "outputs": [
        {
          "output_type": "stream",
          "name": "stdout",
          "text": [
            "tensor([2, 3, 4, 0, 5, 1, 6, 7])\n"
          ]
        }
      ]
    },
    {
      "cell_type": "markdown",
      "metadata": {
        "id": "pSFQCPtD9x5J"
      },
      "source": [
        "1.2 Представьте первое предложение из строки `text` как последовательность векторов, соответствующих индексам слов. Для представления индекса в виде вектора используйте унитарное кодирование. В результате должен получиться двумерный тензор размера `количество слов в предложении` x `количество уникальных слов`"
      ]
    },
    {
      "cell_type": "code",
      "metadata": {
        "id": "RZS4XLV0-buf"
      },
      "source": [
        "text = 'Select your preferences and run the install command. Stable represents the most currently tested and supported version of PyTorch. Note that LibTorch is only available for C++'"
      ],
      "execution_count": null,
      "outputs": []
    },
    {
      "cell_type": "code",
      "source": [
        "tokens = list(nltk.word_tokenize(re.sub(r\"[^a-zA-Z]\", \" \", text)))\n",
        "sent = nltk.sent_tokenize(text)\n",
        "sent = nltk.word_tokenize(re.sub(r\"[^a-zA-Z]\", \" \", sent[0]))\n",
        "voc1 = Vocab(tokens)"
      ],
      "metadata": {
        "id": "mjf_-aMnNvzK"
      },
      "execution_count": null,
      "outputs": []
    },
    {
      "cell_type": "code",
      "source": [
        "for x in create_uni_vec(voc1, sent):\n",
        "    print(x)"
      ],
      "metadata": {
        "colab": {
          "base_uri": "https://localhost:8080/"
        },
        "id": "Ah9G0lEQNyuj",
        "outputId": "a65855fe-53a3-491d-cfe5-1ab5f85ec6e0"
      },
      "execution_count": null,
      "outputs": [
        {
          "output_type": "stream",
          "name": "stdout",
          "text": [
            "tensor([0, 0, 1, 0, 0, 0, 0, 0, 0, 0, 0, 0, 0, 0, 0, 0, 0, 0, 0, 0, 0, 0, 0, 0,\n",
            "        0])\n",
            "tensor([0, 0, 0, 1, 0, 0, 0, 0, 0, 0, 0, 0, 0, 0, 0, 0, 0, 0, 0, 0, 0, 0, 0, 0,\n",
            "        0])\n",
            "tensor([0, 0, 0, 0, 1, 0, 0, 0, 0, 0, 0, 0, 0, 0, 0, 0, 0, 0, 0, 0, 0, 0, 0, 0,\n",
            "        0])\n",
            "tensor([1, 0, 0, 0, 0, 0, 0, 0, 0, 0, 0, 0, 0, 0, 0, 0, 0, 0, 0, 0, 0, 0, 0, 0,\n",
            "        0])\n",
            "tensor([0, 0, 0, 0, 0, 1, 0, 0, 0, 0, 0, 0, 0, 0, 0, 0, 0, 0, 0, 0, 0, 0, 0, 0,\n",
            "        0])\n",
            "tensor([0, 1, 0, 0, 0, 0, 0, 0, 0, 0, 0, 0, 0, 0, 0, 0, 0, 0, 0, 0, 0, 0, 0, 0,\n",
            "        0])\n",
            "tensor([0, 0, 0, 0, 0, 0, 1, 0, 0, 0, 0, 0, 0, 0, 0, 0, 0, 0, 0, 0, 0, 0, 0, 0,\n",
            "        0])\n",
            "tensor([0, 0, 0, 0, 0, 0, 0, 1, 0, 0, 0, 0, 0, 0, 0, 0, 0, 0, 0, 0, 0, 0, 0, 0,\n",
            "        0])\n"
          ]
        }
      ]
    },
    {
      "cell_type": "markdown",
      "metadata": {
        "id": "9ZvQKHYA-mJN"
      },
      "source": [
        "1.3 Решите задачу 1.2, используя модуль `nn.Embedding`"
      ]
    },
    {
      "cell_type": "code",
      "source": [
        "text = 'Select your preferences and run the install command. Stable represents the most currently tested and supported version of PyTorch. Note that LibTorch is only available for C++'"
      ],
      "metadata": {
        "id": "OaozUnCxX04L"
      },
      "execution_count": null,
      "outputs": []
    },
    {
      "cell_type": "code",
      "source": [
        "tokens = list(nltk.word_tokenize(re.sub(r\"[^a-zA-Z]\", \" \", text)))\n",
        "sent = nltk.sent_tokenize(text)\n",
        "sent = nltk.word_tokenize(re.sub(r\"[^a-zA-Z]\", \" \", sent[0]))\n",
        "voc1 = Vocab(tokens)\n",
        "emb = nn.Embedding(len(voc1), 1, max_norm=1)"
      ],
      "metadata": {
        "id": "4T38-NXLX2lL"
      },
      "execution_count": null,
      "outputs": []
    },
    {
      "cell_type": "code",
      "source": [
        "with torch.no_grad():\n",
        "    emb.weight[:] = 0\n",
        "    emb.weight[1] = 1"
      ],
      "metadata": {
        "id": "BUmEoEVIZUrB"
      },
      "execution_count": null,
      "outputs": []
    },
    {
      "cell_type": "code",
      "source": [
        "x = create_uni_vec(voc1, sent)\n",
        "for i in emb(x).squeeze(-1):\n",
        "    print(i)"
      ],
      "metadata": {
        "colab": {
          "base_uri": "https://localhost:8080/"
        },
        "id": "7GmFNIGeX42z",
        "outputId": "dcadd255-e7bc-44c1-d75a-64f702991889"
      },
      "execution_count": null,
      "outputs": [
        {
          "output_type": "stream",
          "name": "stdout",
          "text": [
            "tensor([0., 0., 1., 0., 0., 0., 0., 0., 0., 0., 0., 0., 0., 0., 0., 0., 0., 0.,\n",
            "        0., 0., 0., 0., 0., 0., 0.], grad_fn=<UnbindBackward0>)\n",
            "tensor([0., 0., 0., 1., 0., 0., 0., 0., 0., 0., 0., 0., 0., 0., 0., 0., 0., 0.,\n",
            "        0., 0., 0., 0., 0., 0., 0.], grad_fn=<UnbindBackward0>)\n",
            "tensor([0., 0., 0., 0., 1., 0., 0., 0., 0., 0., 0., 0., 0., 0., 0., 0., 0., 0.,\n",
            "        0., 0., 0., 0., 0., 0., 0.], grad_fn=<UnbindBackward0>)\n",
            "tensor([1., 0., 0., 0., 0., 0., 0., 0., 0., 0., 0., 0., 0., 0., 0., 0., 0., 0.,\n",
            "        0., 0., 0., 0., 0., 0., 0.], grad_fn=<UnbindBackward0>)\n",
            "tensor([0., 0., 0., 0., 0., 1., 0., 0., 0., 0., 0., 0., 0., 0., 0., 0., 0., 0.,\n",
            "        0., 0., 0., 0., 0., 0., 0.], grad_fn=<UnbindBackward0>)\n",
            "tensor([0., 1., 0., 0., 0., 0., 0., 0., 0., 0., 0., 0., 0., 0., 0., 0., 0., 0.,\n",
            "        0., 0., 0., 0., 0., 0., 0.], grad_fn=<UnbindBackward0>)\n",
            "tensor([0., 0., 0., 0., 0., 0., 1., 0., 0., 0., 0., 0., 0., 0., 0., 0., 0., 0.,\n",
            "        0., 0., 0., 0., 0., 0., 0.], grad_fn=<UnbindBackward0>)\n",
            "tensor([0., 0., 0., 0., 0., 0., 0., 1., 0., 0., 0., 0., 0., 0., 0., 0., 0., 0.,\n",
            "        0., 0., 0., 0., 0., 0., 0.], grad_fn=<UnbindBackward0>)\n"
          ]
        }
      ]
    },
    {
      "cell_type": "markdown",
      "metadata": {
        "id": "TXjM7qEUNFY_"
      },
      "source": [
        "## 2. Классификация фамилий по национальности (ConvNet)\n",
        "\n",
        "Датасет: https://disk.yandex.ru/d/owHew8hzPc7X9Q?w=1\n",
        "\n",
        "2.1 Считать файл `surnames/surnames.csv`.\n",
        "\n",
        "2.2 Закодировать национальности числами, начиная с 0.\n",
        "\n",
        "2.3 Разбить датасет на обучающую и тестовую выборку\n",
        "\n",
        "2.4 Реализовать класс `Vocab` (токен = __символ__)\n",
        "  * добавьте в словарь специальный токен `<PAD>` с индексом 0\n",
        "  * при создании словаря сохраните длину самой длинной последовательности из набора данных в виде атрибута `max_seq_len`\n",
        "\n",
        "2.5 Реализовать класс `SurnamesDataset`\n",
        "  * метод `__getitem__` возвращает пару: <последовательность индексов токенов (см. 1.1 ), номер класса>\n",
        "  * длина каждой такой последовательности должна быть одинаковой и равной `vocab.max_seq_len`. Чтобы добиться этого, дополните последовательность справа индексом токена `<PAD>` до нужной длины\n",
        "\n",
        "2.6. Обучить классификатор.\n",
        "  \n",
        "  * Для преобразования последовательности индексов в последовательность векторов используйте `nn.Embedding`. Рассмотрите два варианта:\n",
        "    - когда токен представляется в виде унитарного вектора и модуль `nn.Embedding` не обучается\n",
        "    - когда токен представляется в виде вектора небольшой размерности (меньше, чем размер словаря) и модуль `nn.Embedding` обучается\n",
        "\n",
        "  * Используйте одномерные свертки и пулинг (`nn.Conv1d`, `nn.MaxPool1d`)\n",
        "    - обратите внимание, что `nn.Conv1d` ожидает на вход трехмерный тензор размерности `(batch, embedding_dim, seq_len)`\n",
        "\n",
        "2.7 Измерить точность на тестовой выборке. Проверить работоспособность модели: прогнать несколько фамилий студентов группы через модели и проверить результат. Для каждой фамилии выводить 3 наиболее вероятных предсказания."
      ]
    },
    {
      "cell_type": "markdown",
      "source": [
        "### data structures"
      ],
      "metadata": {
        "id": "E7kz2Hj8L4UL"
      }
    },
    {
      "cell_type": "code",
      "source": [
        "class Vocab:\n",
        "    def __init__(self, data:list, spec_symb=True, start=0): # data - list of tokens\n",
        "        self.create_tokens_set(data)\n",
        "\n",
        "        self.idx_to_token = {i+start: v for i,v in enumerate(self.tokens)}\n",
        "\n",
        "        self.token_to_idx = {v: i+start for i,v in enumerate(self.tokens)}\n",
        "\n",
        "        if spec_symb and start>0:\n",
        "            self.idx_to_token[0] = '<PAD>'\n",
        "            self.token_to_idx['<PAD>'] = 0\n",
        "\n",
        "    def create_tokens_set(self, data):\n",
        "        self.tokens = list(set(data))\n",
        "\n",
        "    def __len__(self):\n",
        "        return len(self.token_to_idx)"
      ],
      "metadata": {
        "id": "owOPDxXtwps0"
      },
      "execution_count": null,
      "outputs": []
    },
    {
      "cell_type": "code",
      "metadata": {
        "id": "GHjCRqQg1sw5"
      },
      "source": [
        "class SurnamesDataset(torch.utils.data.Dataset):\n",
        "    def __init__(self, path, uni_vec=False):\n",
        "        self.load_df(path)\n",
        "        self.preprocess_df()\n",
        "        self.sur_vocab = Vocab(list(chain.from_iterable([[x for x in word] for word in self.df['surname'].tolist()])), spec_symb=True, start=1)\n",
        "        self.nat_vocab = Vocab(self.df['nationality'].tolist(), spec_symb=False, start=0)\n",
        "\n",
        "        self.df['len'] = self.df.surname.map(len)\n",
        "        self.max_seq_len = self.df['len'].max()\n",
        "\n",
        "        self.X = self.df['surname'].tolist()\n",
        "        self.y = self.df['nationality'].tolist()\n",
        "        self.uni_vec = uni_vec\n",
        "\n",
        "    def pad_features(self, target, max_len):\n",
        "        diff = max_len - len(target)\n",
        "        for i in range(diff):\n",
        "            target.append(0)\n",
        "        return torch.tensor(target)\n",
        "\n",
        "\n",
        "    def preprocess_df(self):\n",
        "        self.df['surname'] = self.df['surname'].str.lower()\n",
        "        self.df['nationality'] = self.df['nationality'].str.lower()\n",
        "\n",
        "    def load_df(self, path):\n",
        "        self.df = pd.read_csv(path)\n",
        "\n",
        "    def create_idx_vec(self, sent): #sent: list, list of tokens\n",
        "        new_seq = [self.sur_vocab.token_to_idx[item] for item in sent]\n",
        "        return new_seq\n",
        "\n",
        "    def create_uni_vec(self, sent):\n",
        "        new_seq = torch.stack([torch.tensor([1 if token == sample else 0 for token in self.sur_vocab.idx_to_token.keys()]) for sample in sent])\n",
        "        return new_seq\n",
        "\n",
        "    def __len__(self):\n",
        "        return len(self.X)\n",
        "\n",
        "    def __getitem__(self, idx):\n",
        "        if self.uni_vec:\n",
        "            return self.create_uni_vec(self.pad_features(self.create_idx_vec(self.X[idx]), self.max_seq_len).tolist()), self.nat_vocab.token_to_idx[self.y[idx]]\n",
        "        return self.pad_features(self.create_idx_vec(self.X[idx]), self.max_seq_len), self.nat_vocab.token_to_idx[self.y[idx]]"
      ],
      "execution_count": null,
      "outputs": []
    },
    {
      "cell_type": "code",
      "source": [
        "class GetFeaturesFromRNN(torch.nn.Module):\n",
        "    def forward(self, x):\n",
        "        x, _ = x\n",
        "        if len(x.shape) == 3:\n",
        "            return x[:, -1, :]\n",
        "        elif len(x.shape) == 2:\n",
        "            return x[:, -1]"
      ],
      "metadata": {
        "id": "jxawruYALvP_"
      },
      "execution_count": null,
      "outputs": []
    },
    {
      "cell_type": "code",
      "source": [
        "class Transpose(torch.nn.Module):\n",
        "    def __init__(self, dim0, dim1):\n",
        "        super(Transpose, self).__init__()\n",
        "        self.dim0 = dim0\n",
        "        self.dim1 = dim1\n",
        "\n",
        "    def forward(self, x):\n",
        "        x = torch.transpose(x, self.dim0, self.dim1)\n",
        "        return x"
      ],
      "metadata": {
        "id": "OxG9x3OzLvmL"
      },
      "execution_count": null,
      "outputs": []
    },
    {
      "cell_type": "code",
      "source": [
        "class Model_2(torch.nn.Module):\n",
        "    def __init__(self, input_size, output_size): #input_size - len of rev dict\n",
        "        super(Model_2, self).__init__()\n",
        "        self.features = nn.Sequential(\n",
        "            nn.Embedding(input_size, embedding_dim=20, padding_idx=0),\n",
        "            nn.Dropout(0.25),\n",
        "            Transpose(dim0=1, dim1=2),\n",
        "            nn.Conv1d(in_channels=20, out_channels=50, kernel_size=3, stride=1, padding=0, dilation=1),\n",
        "            nn.ReLU(),\n",
        "            nn.Dropout(0.25),\n",
        "            nn.MaxPool1d(2),\n",
        "            Transpose(dim0=1, dim1=2),\n",
        "            nn.LSTM(50, 200, num_layers=3, batch_first=True, dropout=0.5),\n",
        "            GetFeaturesFromRNN()\n",
        "        )\n",
        "        self.classificator = nn.Sequential(\n",
        "            nn.Linear(in_features=200, out_features=output_size),\n",
        "            nn.LogSoftmax()\n",
        "        )\n",
        "\n",
        "    def forward(self, x):\n",
        "        x = self.features.forward(x)\n",
        "        x = torch.flatten(x, 1)\n",
        "        x = self.classificator.forward(x)\n",
        "        return x"
      ],
      "metadata": {
        "id": "WwUu20tmLdPF"
      },
      "execution_count": null,
      "outputs": []
    },
    {
      "cell_type": "code",
      "source": [
        "class sshape(torch.nn.Module):\n",
        "    def forward(self, x):\n",
        "        print(x.shape)\n",
        "        return x"
      ],
      "metadata": {
        "id": "XoLKbfweWfXH"
      },
      "execution_count": null,
      "outputs": []
    },
    {
      "cell_type": "code",
      "source": [
        "class ssqueze(torch.nn.Module):\n",
        "    def forward(self, x):\n",
        "        return x.squeeze(-1)"
      ],
      "metadata": {
        "id": "csAaZHVWWtD_"
      },
      "execution_count": null,
      "outputs": []
    },
    {
      "cell_type": "code",
      "source": [
        "class Model_1(torch.nn.Module):\n",
        "    def __init__(self, input_size, output_size): #input_size - len of rev dict\n",
        "        super(Model_1, self).__init__()\n",
        "        self.features = nn.Sequential(\n",
        "            nn.Embedding(input_size, embedding_dim=1, padding_idx=0),\n",
        "            ssqueze(),\n",
        "            nn.Dropout(0.25),\n",
        "            Transpose(dim0=1, dim1=2),\n",
        "            nn.Conv1d(in_channels=input_size, out_channels=50, kernel_size=3, stride=1, padding=0, dilation=1),\n",
        "            nn.ReLU(),\n",
        "            nn.Dropout(0.25),\n",
        "            nn.MaxPool1d(2),\n",
        "            Transpose(dim0=1, dim1=2),\n",
        "            nn.LSTM(50, 200, num_layers=3, batch_first=True, dropout=0.5),\n",
        "            GetFeaturesFromRNN()\n",
        "        )\n",
        "\n",
        "        with torch.no_grad():\n",
        "            self.features[0].weight[:] = 0\n",
        "            self.features[0].weight[1] = 1\n",
        "\n",
        "        self.classificator = nn.Sequential(\n",
        "            nn.Linear(in_features=200, out_features=output_size),\n",
        "            nn.LogSoftmax()\n",
        "        )\n",
        "\n",
        "    def forward(self, x):\n",
        "        x = self.features.forward(x)\n",
        "        x = torch.flatten(x, 1)\n",
        "        x = self.classificator.forward(x)\n",
        "        return x"
      ],
      "metadata": {
        "id": "p9D3HVGzP5YL"
      },
      "execution_count": null,
      "outputs": []
    },
    {
      "cell_type": "markdown",
      "source": [
        "### code proccessing"
      ],
      "metadata": {
        "id": "lItqYXcfMDQV"
      }
    },
    {
      "cell_type": "markdown",
      "source": [
        "#### model_1"
      ],
      "metadata": {
        "id": "n6a0lqGYP0xv"
      }
    },
    {
      "cell_type": "code",
      "source": [
        "path = 'C:\\\\Users\\\\user\\\\Desktop\\\\dz\\\\DL\\\\lab5\\\\data\\\\surnames.csv'"
      ],
      "metadata": {
        "id": "49EDKCRjST6F"
      },
      "execution_count": null,
      "outputs": []
    },
    {
      "cell_type": "code",
      "source": [
        "dataset = SurnamesDataset(path, uni_vec=True)"
      ],
      "metadata": {
        "id": "5sjaGrlBST6K"
      },
      "execution_count": null,
      "outputs": []
    },
    {
      "cell_type": "code",
      "source": [
        "BATCH_SIZE = 100\n",
        "INIT_LR = 1e-3\n",
        "EPOCH = 150\n",
        "device = \"cuda\" if torch.cuda.is_available() else \"cpu\"\n",
        "torch.cuda.empty_cache() if device == 'cuda' else None"
      ],
      "metadata": {
        "id": "MmX9uhkcST6K"
      },
      "execution_count": null,
      "outputs": []
    },
    {
      "cell_type": "code",
      "source": [
        "trainSize = int(0.8*len(dataset))\n",
        "valSize = int(0.1*len(dataset))\n",
        "testSize = len(dataset) - trainSize - valSize\n",
        "train_dataset, val_dataset, test_dataset = torch.utils.data.random_split(dataset, [trainSize, valSize, testSize])"
      ],
      "metadata": {
        "id": "2gvW_cBwST6K"
      },
      "execution_count": null,
      "outputs": []
    },
    {
      "cell_type": "code",
      "source": [
        "trainLoader = torch.utils.data.DataLoader(train_dataset, batch_size=BATCH_SIZE, shuffle=True, pin_memory=True, num_workers = 0)\n",
        "valLoader = torch.utils.data.DataLoader(val_dataset, batch_size=BATCH_SIZE, shuffle=True, pin_memory=True, num_workers = 0)\n",
        "testLoader = torch.utils.data.DataLoader(test_dataset, batch_size=BATCH_SIZE, shuffle=False, pin_memory=True, num_workers = 0)"
      ],
      "metadata": {
        "id": "DnXz6ItpST6K"
      },
      "execution_count": null,
      "outputs": []
    },
    {
      "cell_type": "code",
      "source": [
        "in_size = len(dataset.sur_vocab)\n",
        "out_size = len(dataset.nat_vocab)\n",
        "print(f'in = {in_size}, out = {out_size}')"
      ],
      "metadata": {
        "colab": {
          "base_uri": "https://localhost:8080/"
        },
        "outputId": "a24456fc-ebe9-48a0-821c-8c5ee75d8726",
        "id": "pKGRCx0OST6K"
      },
      "execution_count": null,
      "outputs": [
        {
          "output_type": "stream",
          "name": "stdout",
          "text": [
            "in = 56, out = 18\n"
          ]
        }
      ]
    },
    {
      "cell_type": "code",
      "source": [
        "model = Model_1(in_size, out_size).to(device)\n",
        "print(f'кол-во параметров в модели = {sum(p.numel() for p in model.parameters() if p.requires_grad)}')"
      ],
      "metadata": {
        "colab": {
          "base_uri": "https://localhost:8080/"
        },
        "outputId": "a3b33c60-8ffc-4e7f-9831-328dda715fe5",
        "id": "_9TxpbZYST6L"
      },
      "execution_count": null,
      "outputs": [
        {
          "output_type": "stream",
          "name": "stdout",
          "text": [
            "кол-во параметров в модели = 856924\n"
          ]
        }
      ]
    },
    {
      "cell_type": "code",
      "source": [
        "next(model.parameters()).is_cuda"
      ],
      "metadata": {
        "colab": {
          "base_uri": "https://localhost:8080/"
        },
        "outputId": "8ed11d59-8712-48cb-c986-18f91db72013",
        "id": "19uQ_x32ST6L"
      },
      "execution_count": null,
      "outputs": [
        {
          "output_type": "execute_result",
          "data": {
            "text/plain": [
              "True"
            ]
          },
          "metadata": {},
          "execution_count": 299
        }
      ]
    },
    {
      "cell_type": "code",
      "source": [
        "for param in model.features[0].parameters():\n",
        "    param.requires_grad = False"
      ],
      "metadata": {
        "id": "S1USlymwYBgT"
      },
      "execution_count": null,
      "outputs": []
    },
    {
      "cell_type": "code",
      "source": [
        "criterion = torch.nn.CrossEntropyLoss()\n",
        "optimizer = torch.optim.Adam(\n",
        "    model.parameters(),\n",
        "    lr=INIT_LR,\n",
        ")\n",
        "early_stopping = EarlyStopping(min_delta=0.005, tolerance=10)"
      ],
      "metadata": {
        "id": "CrIG88JSST6L"
      },
      "execution_count": null,
      "outputs": []
    },
    {
      "cell_type": "code",
      "source": [
        "train_loss = []\n",
        "val_loss = []\n",
        "for epoch in range(EPOCH):\n",
        "    print(f'epoch = {epoch}, ', end=\"\")\n",
        "    epoch_train_loss = train_one_epoch(model, trainLoader, criterion, optimizer, device)\n",
        "    train_loss.append(epoch_train_loss)\n",
        "\n",
        "    with torch.no_grad():\n",
        "        epoch_val_loss = val_one_epoch(model, valLoader, criterion, device)\n",
        "        val_loss.append(epoch_val_loss)\n",
        "\n",
        "    early_stopping(epoch_val_loss)\n",
        "    if early_stopping.flag:\n",
        "        print(f'early stop at epoch №{epoch}')\n",
        "        break\n",
        "torch.cuda.empty_cache() if device == 'cuda' else None"
      ],
      "metadata": {
        "colab": {
          "base_uri": "https://localhost:8080/"
        },
        "outputId": "aa2afa4f-5f87-4eed-b46c-853fda7830f5",
        "id": "8FPffqO-ST6L"
      },
      "execution_count": null,
      "outputs": [
        {
          "output_type": "stream",
          "name": "stdout",
          "text": [
            "epoch = 0, "
          ]
        },
        {
          "output_type": "stream",
          "name": "stderr",
          "text": [
            "C:\\Users\\user\\AppData\\Local\\Programs\\Python\\Python311\\Lib\\site-packages\\torch\\nn\\modules\\module.py:1518: UserWarning: Implicit dimension choice for log_softmax has been deprecated. Change the call to include dim=X as an argument.\n",
            "  return self._call_impl(*args, **kwargs)\n"
          ]
        },
        {
          "output_type": "stream",
          "name": "stdout",
          "text": [
            "epoch = 1, epoch = 2, epoch = 3, epoch = 4, epoch = 5, epoch = 6, epoch = 7, counter = 1\n",
            "epoch = 8, epoch = 9, epoch = 10, epoch = 11, epoch = 12, epoch = 13, epoch = 14, counter = 2\n",
            "epoch = 15, counter = 3\n",
            "epoch = 16, epoch = 17, epoch = 18, epoch = 19, epoch = 20, epoch = 21, epoch = 22, epoch = 23, epoch = 24, epoch = 25, counter = 4\n",
            "epoch = 26, counter = 5\n",
            "epoch = 27, counter = 6\n",
            "epoch = 28, counter = 7\n",
            "epoch = 29, epoch = 30, counter = 8\n",
            "epoch = 31, epoch = 32, epoch = 33, epoch = 34, epoch = 35, epoch = 36, counter = 9\n",
            "epoch = 37, counter = 10\n",
            "early stop at epoch №37\n"
          ]
        }
      ]
    },
    {
      "cell_type": "code",
      "source": [
        "df = pd.DataFrame({'val_loss': [np.mean(x) for x in val_loss], 'train_loss': [np.mean(x) for x in train_loss]})\n",
        "df.plot(kind='line')"
      ],
      "metadata": {
        "colab": {
          "base_uri": "https://localhost:8080/",
          "height": 447
        },
        "outputId": "4480a145-2392-4878-bec2-f1b9ba83f3af",
        "id": "IBmVY7lhST6L"
      },
      "execution_count": null,
      "outputs": [
        {
          "output_type": "execute_result",
          "data": {
            "text/plain": [
              "<Axes: >"
            ]
          },
          "metadata": {},
          "execution_count": 304
        },
        {
          "output_type": "display_data",
          "data": {
            "text/plain": [
              "<Figure size 640x480 with 1 Axes>"
            ],
            "image/png": "[encoded data removed]"
          },
          "metadata": {}
        }
      ]
    },
    {
      "cell_type": "code",
      "source": [
        "with torch.no_grad():\n",
        "    test_data = test_model(model, testLoader, device, dataset.nat_vocab)\n",
        "torch.cuda.empty_cache() if device == 'cuda' else None"
      ],
      "metadata": {
        "colab": {
          "base_uri": "https://localhost:8080/"
        },
        "outputId": "9c549aa0-705c-4182-87e9-00a1c20786bc",
        "id": "2Bsl909-ST6L"
      },
      "execution_count": null,
      "outputs": [
        {
          "output_type": "stream",
          "name": "stderr",
          "text": [
            "C:\\Users\\user\\AppData\\Local\\Programs\\Python\\Python311\\Lib\\site-packages\\torch\\nn\\modules\\module.py:1518: UserWarning: Implicit dimension choice for log_softmax has been deprecated. Change the call to include dim=X as an argument.\n",
            "  return self._call_impl(*args, **kwargs)\n"
          ]
        }
      ]
    },
    {
      "cell_type": "code",
      "source": [
        "overall_accuracy = test_data[1].item()/test_data[2]\n",
        "print(f'overall acc = {round(overall_accuracy*100,2)}%')"
      ],
      "metadata": {
        "colab": {
          "base_uri": "https://localhost:8080/"
        },
        "outputId": "041905cb-63f2-4ca5-d574-e4c9923fcbdd",
        "id": "vZ5iA3AhST6L"
      },
      "execution_count": null,
      "outputs": [
        {
          "output_type": "stream",
          "name": "stdout",
          "text": [
            "overall acc = 71.22%\n"
          ]
        }
      ]
    },
    {
      "cell_type": "code",
      "source": [
        "from seaborn import heatmap\n",
        "heatmap(test_data[0])"
      ],
      "metadata": {
        "colab": {
          "base_uri": "https://localhost:8080/",
          "height": 447
        },
        "outputId": "f3a44de7-39b4-4a26-ea0e-423117d7e7d7",
        "id": "-1q0RRJOST6M"
      },
      "execution_count": null,
      "outputs": [
        {
          "output_type": "execute_result",
          "data": {
            "text/plain": [
              "<Axes: >"
            ]
          },
          "metadata": {},
          "execution_count": 307
        },
        {
          "output_type": "display_data",
          "data": {
            "text/plain": [
              "<Figure size 640x480 with 2 Axes>"
            ],
            "image/png": "[encoded data removed]"
          },
          "metadata": {}
        }
      ]
    },
    {
      "cell_type": "code",
      "source": [
        "students = ['Alueva', 'Sultonov', 'Mikhailenko']\n",
        "students = [dataset.create_uni_vec(dataset.pad_features(dataset.create_idx_vec(x.lower()), dataset.max_seq_len).tolist()) for x in students]\n",
        "students = torch.stack(students).to(device)\n",
        "\n",
        "preds = model.forward(students)"
      ],
      "metadata": {
        "colab": {
          "base_uri": "https://localhost:8080/"
        },
        "outputId": "c66ce82a-2da3-41fb-d7f2-a4dd16338de9",
        "id": "2A5hC71UST6M"
      },
      "execution_count": null,
      "outputs": [
        {
          "output_type": "stream",
          "name": "stderr",
          "text": [
            "C:\\Users\\user\\AppData\\Local\\Programs\\Python\\Python311\\Lib\\site-packages\\torch\\nn\\modules\\module.py:1518: UserWarning: Implicit dimension choice for log_softmax has been deprecated. Change the call to include dim=X as an argument.\n",
            "  return self._call_impl(*args, **kwargs)\n"
          ]
        }
      ]
    },
    {
      "cell_type": "code",
      "source": [
        "_, preds = torch.topk(preds, 3)\n",
        "preds"
      ],
      "metadata": {
        "colab": {
          "base_uri": "https://localhost:8080/"
        },
        "outputId": "266ec440-6884-4903-ead9-54d5ade0aa80",
        "id": "BLB3N5DTST6M"
      },
      "execution_count": null,
      "outputs": [
        {
          "output_type": "execute_result",
          "data": {
            "text/plain": [
              "tensor([[ 0,  8,  1],\n",
              "        [17,  1,  9],\n",
              "        [17,  1, 16]], device='cuda:0')"
            ]
          },
          "metadata": {},
          "execution_count": 310
        }
      ]
    },
    {
      "cell_type": "code",
      "source": [
        "nat_list = [[dataset.nat_vocab.idx_to_token[z] for z in x] for x in preds.cpu().tolist()]\n",
        "nat_list"
      ],
      "metadata": {
        "colab": {
          "base_uri": "https://localhost:8080/"
        },
        "outputId": "582cbdae-f0ce-4010-cf9e-9aade4a27d52",
        "id": "JXuS6m_CST6M"
      },
      "execution_count": null,
      "outputs": [
        {
          "output_type": "execute_result",
          "data": {
            "text/plain": [
              "[['spanish', 'french', 'czech'],\n",
              " ['russian', 'czech', 'italian'],\n",
              " ['russian', 'czech', 'japanese']]"
            ]
          },
          "metadata": {},
          "execution_count": 311
        }
      ]
    },
    {
      "cell_type": "markdown",
      "source": [
        "#### model_2"
      ],
      "metadata": {
        "id": "1Bq_Tzg1NB-n"
      }
    },
    {
      "cell_type": "code",
      "source": [
        "path = 'C:\\\\Users\\\\user\\\\Desktop\\\\dz\\\\DL\\\\lab5\\\\data\\\\surnames.csv'"
      ],
      "metadata": {
        "id": "y6WUqTuMKV7G"
      },
      "execution_count": null,
      "outputs": []
    },
    {
      "cell_type": "code",
      "source": [
        "dataset = SurnamesDataset(path, uni_vec=False)"
      ],
      "metadata": {
        "id": "LVorjHbDMHXz"
      },
      "execution_count": null,
      "outputs": []
    },
    {
      "cell_type": "code",
      "source": [
        "BATCH_SIZE = 100\n",
        "INIT_LR = 1e-3\n",
        "EPOCH = 150\n",
        "device = \"cuda\" if torch.cuda.is_available() else \"cpu\"\n",
        "torch.cuda.empty_cache() if device == 'cuda' else None"
      ],
      "metadata": {
        "id": "Y6r4DFmDML-u"
      },
      "execution_count": null,
      "outputs": []
    },
    {
      "cell_type": "code",
      "source": [
        "trainSize = int(0.8*len(dataset))\n",
        "valSize = int(0.1*len(dataset))\n",
        "testSize = len(dataset) - trainSize - valSize\n",
        "train_dataset, val_dataset, test_dataset = torch.utils.data.random_split(dataset, [trainSize, valSize, testSize])"
      ],
      "metadata": {
        "id": "4KgcNGjxMM07"
      },
      "execution_count": null,
      "outputs": []
    },
    {
      "cell_type": "code",
      "source": [
        "trainLoader = torch.utils.data.DataLoader(train_dataset, batch_size=BATCH_SIZE, shuffle=True, pin_memory=True, num_workers = 0)\n",
        "valLoader = torch.utils.data.DataLoader(val_dataset, batch_size=BATCH_SIZE, shuffle=True, pin_memory=True, num_workers = 0)\n",
        "testLoader = torch.utils.data.DataLoader(test_dataset, batch_size=BATCH_SIZE, shuffle=False, pin_memory=True, num_workers = 0)"
      ],
      "metadata": {
        "id": "swnhK2C0MOPM"
      },
      "execution_count": null,
      "outputs": []
    },
    {
      "cell_type": "code",
      "source": [
        "in_size = len(dataset.sur_vocab)\n",
        "out_size = len(dataset.nat_vocab)\n",
        "print(f'in = {in_size}, out = {out_size}')"
      ],
      "metadata": {
        "colab": {
          "base_uri": "https://localhost:8080/"
        },
        "id": "0hsAoR0tMPre",
        "outputId": "3a54312f-f974-4677-8c6a-14150c5ffa51"
      },
      "execution_count": null,
      "outputs": [
        {
          "output_type": "stream",
          "name": "stdout",
          "text": [
            "in = 56, out = 18\n"
          ]
        }
      ]
    },
    {
      "cell_type": "code",
      "source": [
        "model = Model_2(in_size, out_size).to(device)\n",
        "print(f'кол-во параметров в модели = {sum(p.numel() for p in model.parameters() if p.requires_grad)}')"
      ],
      "metadata": {
        "colab": {
          "base_uri": "https://localhost:8080/"
        },
        "id": "G0sm4r-NMzUC",
        "outputId": "002d9975-30dd-4da8-cdc9-0d0d651f951d"
      },
      "execution_count": null,
      "outputs": [
        {
          "output_type": "stream",
          "name": "stdout",
          "text": [
            "кол-во параметров в модели = 852588\n"
          ]
        }
      ]
    },
    {
      "cell_type": "code",
      "source": [
        "next(model.parameters()).is_cuda"
      ],
      "metadata": {
        "colab": {
          "base_uri": "https://localhost:8080/"
        },
        "id": "gxjaJCIINA56",
        "outputId": "d3ab0eab-814f-4124-ab20-872f7467828f"
      },
      "execution_count": null,
      "outputs": [
        {
          "output_type": "execute_result",
          "data": {
            "text/plain": [
              "True"
            ]
          },
          "metadata": {},
          "execution_count": 319
        }
      ]
    },
    {
      "cell_type": "code",
      "source": [
        "criterion = torch.nn.CrossEntropyLoss()\n",
        "optimizer = torch.optim.Adam(\n",
        "    model.parameters(),\n",
        "    lr=INIT_LR,\n",
        ")\n",
        "early_stopping = EarlyStopping(min_delta=0.005, tolerance=10)"
      ],
      "metadata": {
        "id": "cAsvaCOuNFox"
      },
      "execution_count": null,
      "outputs": []
    },
    {
      "cell_type": "code",
      "source": [
        "train_loss = []\n",
        "val_loss = []\n",
        "for epoch in range(EPOCH):\n",
        "  epoch_train_loss = train_one_epoch(model, trainLoader, criterion, optimizer, device)\n",
        "  train_loss.append(epoch_train_loss)\n",
        "\n",
        "  with torch.no_grad():\n",
        "    epoch_val_loss = val_one_epoch(model, valLoader, criterion, device)\n",
        "    val_loss.append(epoch_val_loss)\n",
        "\n",
        "  early_stopping(epoch_val_loss)\n",
        "  if early_stopping.flag:\n",
        "    print(f'early stop at epoch №{epoch}')\n",
        "    break\n",
        "torch.cuda.empty_cache() if device == 'cuda' else None"
      ],
      "metadata": {
        "colab": {
          "base_uri": "https://localhost:8080/"
        },
        "id": "BVNrmQJ3NScD",
        "outputId": "dd4a88c8-2cb6-408a-d306-23fcdb759459"
      },
      "execution_count": null,
      "outputs": [
        {
          "output_type": "stream",
          "name": "stderr",
          "text": [
            "C:\\Users\\user\\AppData\\Local\\Programs\\Python\\Python311\\Lib\\site-packages\\torch\\nn\\modules\\module.py:1518: UserWarning: Implicit dimension choice for log_softmax has been deprecated. Change the call to include dim=X as an argument.\n",
            "  return self._call_impl(*args, **kwargs)\n"
          ]
        },
        {
          "output_type": "stream",
          "name": "stdout",
          "text": [
            "counter = 1\n",
            "counter = 2\n",
            "counter = 3\n",
            "counter = 4\n",
            "counter = 5\n",
            "counter = 6\n",
            "counter = 7\n",
            "counter = 8\n",
            "counter = 9\n",
            "counter = 10\n",
            "early stop at epoch №33\n"
          ]
        }
      ]
    },
    {
      "cell_type": "code",
      "source": [
        "df = pd.DataFrame({'val_loss': [np.mean(x) for x in val_loss], 'train_loss': [np.mean(x) for x in train_loss]})\n",
        "df.plot(kind='line')"
      ],
      "metadata": {
        "colab": {
          "base_uri": "https://localhost:8080/",
          "height": 447
        },
        "id": "jQzZnhNhNcfI",
        "outputId": "6eec8834-b82a-4bf7-aa51-5d49c8f2c8c8"
      },
      "execution_count": null,
      "outputs": [
        {
          "output_type": "execute_result",
          "data": {
            "text/plain": [
              "<Axes: >"
            ]
          },
          "metadata": {},
          "execution_count": 322
        },
        {
          "output_type": "display_data",
          "data": {
            "text/plain": [
              "<Figure size 640x480 with 1 Axes>"
            ],
            "image/png": "[encoded data removed]"
          },
          "metadata": {}
        }
      ]
    },
    {
      "cell_type": "code",
      "source": [
        "with torch.no_grad():\n",
        "    test_data = test_model(model, testLoader, device, dataset.nat_vocab)\n",
        "torch.cuda.empty_cache() if device == 'cuda' else None"
      ],
      "metadata": {
        "colab": {
          "base_uri": "https://localhost:8080/"
        },
        "id": "pKpxC1-YNduF",
        "outputId": "504cba76-2341-48e3-867b-a6d59273ed0d"
      },
      "execution_count": null,
      "outputs": [
        {
          "output_type": "stream",
          "name": "stderr",
          "text": [
            "C:\\Users\\user\\AppData\\Local\\Programs\\Python\\Python311\\Lib\\site-packages\\torch\\nn\\modules\\module.py:1518: UserWarning: Implicit dimension choice for log_softmax has been deprecated. Change the call to include dim=X as an argument.\n",
            "  return self._call_impl(*args, **kwargs)\n"
          ]
        }
      ]
    },
    {
      "cell_type": "code",
      "source": [
        "overall_accuracy = test_data[1].item()/test_data[2]\n",
        "print(f'overall acc = {round(overall_accuracy*100,2)}%')"
      ],
      "metadata": {
        "colab": {
          "base_uri": "https://localhost:8080/"
        },
        "id": "hEPGA_OeN4ac",
        "outputId": "40fdafdd-6a22-4a56-8ef0-78f81536155f"
      },
      "execution_count": null,
      "outputs": [
        {
          "output_type": "stream",
          "name": "stdout",
          "text": [
            "overall acc = 74.59%\n"
          ]
        }
      ]
    },
    {
      "cell_type": "code",
      "source": [
        "from seaborn import heatmap\n",
        "heatmap(test_data[0])"
      ],
      "metadata": {
        "colab": {
          "base_uri": "https://localhost:8080/",
          "height": 447
        },
        "id": "RzRAo_74N-Cn",
        "outputId": "4ceae98a-bb8b-4dce-e892-28776b2fa6a7"
      },
      "execution_count": null,
      "outputs": [
        {
          "output_type": "execute_result",
          "data": {
            "text/plain": [
              "<Axes: >"
            ]
          },
          "metadata": {},
          "execution_count": 325
        },
        {
          "output_type": "display_data",
          "data": {
            "text/plain": [
              "<Figure size 640x480 with 2 Axes>"
            ],
            "image/png": "[encoded data removed]"
          },
          "metadata": {}
        }
      ]
    },
    {
      "cell_type": "code",
      "source": [
        "students = ['Alueva', 'Sultonov', 'Mikhailenko']\n",
        "students = [dataset.pad_features(dataset.create_idx_vec(x.lower()), dataset.max_seq_len) for x in students]\n",
        "students = torch.stack(students).to(device)\n",
        "\n",
        "preds = model.forward(students)"
      ],
      "metadata": {
        "colab": {
          "base_uri": "https://localhost:8080/"
        },
        "id": "lBxQZKWQOCEQ",
        "outputId": "4b125e12-19b8-464a-cb6a-d2631e3de735"
      },
      "execution_count": null,
      "outputs": [
        {
          "output_type": "stream",
          "name": "stderr",
          "text": [
            "C:\\Users\\user\\AppData\\Local\\Programs\\Python\\Python311\\Lib\\site-packages\\torch\\nn\\modules\\module.py:1518: UserWarning: Implicit dimension choice for log_softmax has been deprecated. Change the call to include dim=X as an argument.\n",
            "  return self._call_impl(*args, **kwargs)\n"
          ]
        }
      ]
    },
    {
      "cell_type": "code",
      "source": [
        "_, preds = torch.topk(preds, 3)\n",
        "preds"
      ],
      "metadata": {
        "colab": {
          "base_uri": "https://localhost:8080/"
        },
        "id": "NO-dZ1tsOQ_r",
        "outputId": "8cf3aa2e-0c9a-4e50-8d7d-2967ce7f42a5"
      },
      "execution_count": null,
      "outputs": [
        {
          "output_type": "execute_result",
          "data": {
            "text/plain": [
              "tensor([[ 1,  0, 12],\n",
              "        [17,  1, 12],\n",
              "        [17,  1, 16]], device='cuda:0')"
            ]
          },
          "metadata": {},
          "execution_count": 327
        }
      ]
    },
    {
      "cell_type": "code",
      "source": [
        "nat_list = [[dataset.nat_vocab.idx_to_token[z] for z in x] for x in preds.cpu().tolist()]\n",
        "nat_list"
      ],
      "metadata": {
        "colab": {
          "base_uri": "https://localhost:8080/"
        },
        "id": "T1E7ZWHlOR34",
        "outputId": "1d919557-7bd4-4968-d6a8-9803366528ae"
      },
      "execution_count": null,
      "outputs": [
        {
          "output_type": "execute_result",
          "data": {
            "text/plain": [
              "[['czech', 'spanish', 'english'],\n",
              " ['russian', 'czech', 'english'],\n",
              " ['russian', 'czech', 'japanese']]"
            ]
          },
          "metadata": {},
          "execution_count": 328
        }
      ]
    },
    {
      "cell_type": "markdown",
      "metadata": {
        "id": "uo-hf5CQ0iWv"
      },
      "source": [
        "## 3. Классификация обзоров на фильмы (ConvNet)\n",
        "\n",
        "Датасет: https://disk.yandex.ru/d/tdinpb0nN_Dsrg\n",
        "\n",
        "2.1 Создайте набор данных на основе файлов polarity/positive_reviews.csv (положительные отзывы) и polarity/negative_reviews.csv (отрицательные отзывы). Разбейте на обучающую и тестовую выборку.\n",
        "  * токен = __слово__\n",
        "  * данные для обучения в датасете представляются в виде последовательности индексов токенов\n",
        "  * словарь создается на основе _только_ обучающей выборки. Для корректной обработки ситуаций, когда в тестовой выборке встретится токен, который не хранится в словаре, добавьте в словарь специальный токен `<UNK>`\n",
        "  * добавьте предобработку текста\n",
        "\n",
        "2.2. Обучите классификатор.\n",
        "  \n",
        "  * Для преобразования последовательности индексов в последовательность векторов используйте `nn.Embedding`\n",
        "    - подберите адекватную размерность вектора эмбеддинга:\n",
        "    - модуль `nn.Embedding` обучается\n",
        "\n",
        "  * Используйте одномерные свертки и пулинг (`nn.Conv1d`, `nn.MaxPool1d`)\n",
        "    - обратите внимание, что `nn.Conv1d` ожидает на вход трехмерный тензор размерности `(batch, embedding_dim, seq_len)`\n",
        "\n",
        "\n",
        "2.7 Измерить точность на тестовой выборке. Проверить работоспособность модели: придумать небольшой отзыв, прогнать его через модель и вывести номер предсказанного класса (сделать это для явно позитивного и явно негативного отзыва)\n",
        "* Целевое значение accuracy на валидации - 70+%"
      ]
    },
    {
      "cell_type": "code",
      "source": [
        "paths = [r'C:\\Users\\user\\Desktop\\dz\\DL\\lab6\\polarity\\positive_reviews.txt', r'C:\\Users\\user\\Desktop\\dz\\DL\\lab6\\polarity\\negative_reviews.txt']"
      ],
      "metadata": {
        "id": "El65nV2bb6iJ"
      },
      "execution_count": null,
      "outputs": []
    },
    {
      "cell_type": "markdown",
      "source": [
        "### data structures"
      ],
      "metadata": {
        "id": "YZx0KW_wZX5E"
      }
    },
    {
      "cell_type": "code",
      "source": [
        "class Vocab:\n",
        "    def __init__(self, data:list, spec_symb=True, start=0): # data - list of tokens\n",
        "        self.create_tokens_set(data)\n",
        "\n",
        "        self.idx_to_token = {i+start: v for i,v in enumerate(self.tokens) if v!='<PAD>'}\n",
        "\n",
        "        self.token_to_idx = {v: i+start for i,v in enumerate(self.tokens) if v!='<PAD>'}\n",
        "\n",
        "        if spec_symb and start>0:\n",
        "            self.idx_to_token[0] = '<PAD>'\n",
        "            self.token_to_idx['<PAD>'] = 0\n",
        "            self.idx_to_token[1] = '<UNK>'\n",
        "            self.token_to_idx['<UNK>'] = 1\n",
        "\n",
        "    def create_tokens_set(self, data):\n",
        "        self.tokens = list(set(data))\n",
        "\n",
        "    def __len__(self):\n",
        "        return len(self.token_to_idx)"
      ],
      "metadata": {
        "id": "YxnTuKuOjsde"
      },
      "execution_count": null,
      "outputs": []
    },
    {
      "cell_type": "code",
      "source": [
        "class MasterDF():\n",
        "    def __init__(self, path: list): #path_0 - pos rev, path_1 - neg rev\n",
        "        df = self.load_df(path)\n",
        "        self.n_classes = len(df['class'].unique())\n",
        "\n",
        "        self.stemmer = nltk.stem.SnowballStemmer('english')\n",
        "        self.stop_words = set(nltk.corpus.stopwords.words('english'))\n",
        "        self.lemmatizer = nltk.stem.WordNetLemmatizer()\n",
        "        df['rev'] = df['rev'].apply(self.preprocess_text)\n",
        "\n",
        "        self.rev_max_len = len(max(df['rev'], key=len))\n",
        "        df['rev'] = df['rev'].apply(self.pad_features)\n",
        "\n",
        "        self.split_df(df)\n",
        "\n",
        "        self.rev_vocab = Vocab(list(chain.from_iterable([[x for x in seq] for seq in self.train_df['rev'].tolist()])), spec_symb=True, start=2)\n",
        "        self.val_df['rev'] = self.val_df['rev'].apply(self.fill_unk_tokens)\n",
        "        self.test_df['rev'] = self.test_df['rev'].apply(self.fill_unk_tokens)\n",
        "\n",
        "    def fill_unk_tokens(self, target: list):\n",
        "        for i, token in enumerate(target):\n",
        "            if token not in self.rev_vocab.token_to_idx.keys():\n",
        "                target[i] = '<UNK>'\n",
        "        return target\n",
        "\n",
        "    def pad_features(self, target: list):\n",
        "        diff = self.rev_max_len - len(target)\n",
        "        for i in range(diff):\n",
        "            target.append('<PAD>')\n",
        "        return target\n",
        "\n",
        "    def preprocess_text(self, text: str):\n",
        "        text = re.sub(r'[^\\w\\s]', ' ', text)\n",
        "        text = re.sub(r'\\d+', ' ', text)\n",
        "        text = text.lower()\n",
        "        text = nltk.tokenize.word_tokenize(text)\n",
        "        text = [self.lemmatizer.lemmatize(word) for word in text if word not in self.stop_words]\n",
        "        text = [self.stemmer.stem(word) for word in text]\n",
        "        return text\n",
        "\n",
        "    def split_df(self, df: pd.DataFrame):\n",
        "        train_n = int(len(df) * 0.8)\n",
        "        val_n = int(len(df) * 0.1)\n",
        "        self.train_df = df.iloc[0:train_n]\n",
        "        self.val_df = df.iloc[train_n: train_n+val_n]\n",
        "        self.test_df = df.iloc[train_n+val_n:]\n",
        "\n",
        "    def load_df(self, path: list):\n",
        "        with open(paths[0]) as f:\n",
        "            pos_lines = f.readlines()\n",
        "            for i in range(len(pos_lines)):\n",
        "                pos_lines[i] = (pos_lines[i], 0)\n",
        "        with open(paths[1]) as f:\n",
        "            neg_lines = f.readlines()\n",
        "            for i in range(len(neg_lines)):\n",
        "                neg_lines[i] = (neg_lines[i], 1)\n",
        "\n",
        "        lines = pos_lines + neg_lines\n",
        "        random.shuffle(lines)\n",
        "        df = pd.DataFrame(lines, columns=['rev', 'class'])\n",
        "        return df"
      ],
      "metadata": {
        "id": "D58GdLJqnxPR"
      },
      "execution_count": null,
      "outputs": []
    },
    {
      "cell_type": "code",
      "source": [
        "class ReviewDataset(torch.utils.data.Dataset):\n",
        "    def __init__(self, df, vocab): #df to pass depend on category (train, val, test)\n",
        "        self.df = df\n",
        "        self.vocab = vocab\n",
        "\n",
        "    def create_idx_vec(self, sent): #sent: list, list of tokens\n",
        "        new_seq = torch.tensor([self.vocab.token_to_idx[item] for item in sent])\n",
        "        return new_seq\n",
        "\n",
        "    def __getitem__(self, idx: int):\n",
        "        return self.create_idx_vec(self.df['rev'].iloc[idx]), self.df['class'].iloc[idx]\n",
        "\n",
        "    def __len__(self):\n",
        "        return len(self.df)"
      ],
      "metadata": {
        "id": "4OvxwOd-ZaPJ"
      },
      "execution_count": null,
      "outputs": []
    },
    {
      "cell_type": "code",
      "source": [
        "class Transpose(torch.nn.Module):\n",
        "    def __init__(self, dim0, dim1):\n",
        "        super(Transpose, self).__init__()\n",
        "        self.dim0 = dim0\n",
        "        self.dim1 = dim1\n",
        "\n",
        "    def forward(self, x):\n",
        "        x = torch.transpose(x, self.dim0, self.dim1)\n",
        "        return x"
      ],
      "metadata": {
        "id": "kaOgMFLyu_jt"
      },
      "execution_count": null,
      "outputs": []
    },
    {
      "cell_type": "code",
      "source": [
        "class GetFeaturesFromRNN(torch.nn.Module):\n",
        "    def forward(self, x):\n",
        "        x, _ = x\n",
        "        if len(x.shape) == 3:\n",
        "            return x[:, -1, :]\n",
        "        elif len(x.shape) == 2:\n",
        "            return x[:, -1]"
      ],
      "metadata": {
        "id": "ikMLS1c0vAQL"
      },
      "execution_count": null,
      "outputs": []
    },
    {
      "cell_type": "code",
      "source": [
        "class Model(torch.nn.Module):\n",
        "    def __init__(self, input_size, output_size): #input_size - len of rev dict\n",
        "        super(Model, self).__init__()\n",
        "        self.features = nn.Sequential(\n",
        "            nn.Embedding(input_size+1, embedding_dim=200, padding_idx=0),\n",
        "            nn.Dropout(0.25),\n",
        "            Transpose(dim0=1, dim1=2),\n",
        "            nn.Conv1d(in_channels=200, out_channels=50, kernel_size=3, stride=1, padding=0, dilation=1),\n",
        "            nn.ReLU(),\n",
        "            nn.Dropout(0.25),\n",
        "            nn.MaxPool1d(2),\n",
        "            Transpose(dim0=1, dim1=2),\n",
        "            nn.LSTM(50, 200, num_layers=3, batch_first=True, dropout=0.5),\n",
        "            GetFeaturesFromRNN()\n",
        "        )\n",
        "        self.classificator = nn.Sequential(\n",
        "            nn.Linear(in_features=200, out_features=output_size),\n",
        "            nn.LogSoftmax()\n",
        "        )\n",
        "\n",
        "    def forward(self, x):\n",
        "        x = self.features.forward(x)\n",
        "        x = torch.flatten(x, 1)\n",
        "        x = self.classificator.forward(x)\n",
        "        return x"
      ],
      "metadata": {
        "id": "BWm2QcjltWZ8"
      },
      "execution_count": null,
      "outputs": []
    },
    {
      "cell_type": "markdown",
      "source": [
        "### proccessing"
      ],
      "metadata": {
        "id": "urq4LOr6hT8m"
      }
    },
    {
      "cell_type": "code",
      "source": [
        "BATCH_SIZE = 100\n",
        "INIT_LR = 1e-3\n",
        "EPOCH = 150\n",
        "device = \"cuda\" if torch.cuda.is_available() else \"cpu\"\n",
        "torch.cuda.empty_cache() if device == 'cuda' else None"
      ],
      "metadata": {
        "id": "hBmPMI0Ht593"
      },
      "execution_count": null,
      "outputs": []
    },
    {
      "cell_type": "code",
      "source": [
        "paths = [r'C:\\Users\\user\\Desktop\\dz\\DL\\lab6\\polarity\\positive_reviews.txt', r'C:\\Users\\user\\Desktop\\dz\\DL\\lab6\\polarity\\negative_reviews.txt']"
      ],
      "metadata": {
        "id": "DFunrxJPhVWd"
      },
      "execution_count": null,
      "outputs": []
    },
    {
      "cell_type": "code",
      "source": [
        "mdf = MasterDF(paths)"
      ],
      "metadata": {
        "colab": {
          "base_uri": "https://localhost:8080/"
        },
        "id": "tx2baGiKtUvR",
        "outputId": "5cd35fd6-4b05-4c60-fdd8-bc28eddbd8d4"
      },
      "execution_count": null,
      "outputs": [
        {
          "output_type": "stream",
          "name": "stderr",
          "text": [
            "C:\\Users\\user\\AppData\\Local\\Temp\\ipykernel_10116\\2273314123.py:17: SettingWithCopyWarning: \n",
            "A value is trying to be set on a copy of a slice from a DataFrame.\n",
            "Try using .loc[row_indexer,col_indexer] = value instead\n",
            "\n",
            "See the caveats in the documentation: https://pandas.pydata.org/pandas-docs/stable/user_guide/indexing.html#returning-a-view-versus-a-copy\n",
            "  self.val_df['rev'] = self.val_df['rev'].apply(self.fill_unk_tokens)\n",
            "C:\\Users\\user\\AppData\\Local\\Temp\\ipykernel_10116\\2273314123.py:18: SettingWithCopyWarning: \n",
            "A value is trying to be set on a copy of a slice from a DataFrame.\n",
            "Try using .loc[row_indexer,col_indexer] = value instead\n",
            "\n",
            "See the caveats in the documentation: https://pandas.pydata.org/pandas-docs/stable/user_guide/indexing.html#returning-a-view-versus-a-copy\n",
            "  self.test_df['rev'] = self.test_df['rev'].apply(self.fill_unk_tokens)\n"
          ]
        }
      ]
    },
    {
      "cell_type": "code",
      "source": [
        "train_dataset, val_dataset, test_dataset = ReviewDataset(mdf.train_df, mdf.rev_vocab), ReviewDataset(mdf.val_df, mdf.rev_vocab), ReviewDataset(mdf.test_df, mdf.rev_vocab)"
      ],
      "metadata": {
        "id": "GFhv5iNxtg4h"
      },
      "execution_count": null,
      "outputs": []
    },
    {
      "cell_type": "code",
      "source": [
        "trainLoader = torch.utils.data.DataLoader(train_dataset, batch_size=BATCH_SIZE, shuffle=True, pin_memory=True, num_workers = 0)\n",
        "valLoader = torch.utils.data.DataLoader(val_dataset, batch_size=BATCH_SIZE, shuffle=True, pin_memory=True, num_workers = 0)\n",
        "testLoader = torch.utils.data.DataLoader(test_dataset, batch_size=BATCH_SIZE, shuffle=False, pin_memory=True, num_workers = 0)"
      ],
      "metadata": {
        "id": "y7uDkrVEt1Jc"
      },
      "execution_count": null,
      "outputs": []
    },
    {
      "cell_type": "code",
      "source": [
        "in_size = len(mdf.rev_vocab)\n",
        "out_size = mdf.n_classes\n",
        "print(f'in = {in_size}, out = {out_size}')"
      ],
      "metadata": {
        "colab": {
          "base_uri": "https://localhost:8080/"
        },
        "outputId": "6efd7617-45f9-48df-ae58-7a155675ba46",
        "id": "nFjqoO2ct1Jc"
      },
      "execution_count": null,
      "outputs": [
        {
          "output_type": "stream",
          "name": "stdout",
          "text": [
            "in = 11149, out = 2\n"
          ]
        }
      ]
    },
    {
      "cell_type": "code",
      "source": [
        "model = Model(in_size, out_size).to(device)\n",
        "print(f'кол-во параметров в модели = {sum(p.numel() for p in model.parameters() if p.requires_grad)}')"
      ],
      "metadata": {
        "colab": {
          "base_uri": "https://localhost:8080/"
        },
        "outputId": "93395db8-733a-4a45-d275-c98ab979e869",
        "id": "_g8kxY4ot1Jc"
      },
      "execution_count": null,
      "outputs": [
        {
          "output_type": "stream",
          "name": "stdout",
          "text": [
            "кол-во параметров в модели = 3105252\n"
          ]
        }
      ]
    },
    {
      "cell_type": "code",
      "source": [
        "next(model.parameters()).is_cuda"
      ],
      "metadata": {
        "colab": {
          "base_uri": "https://localhost:8080/"
        },
        "outputId": "c5f81a20-e7df-47c3-f763-3f86126cf8ca",
        "id": "t2BtI6wmt1Jd"
      },
      "execution_count": null,
      "outputs": [
        {
          "output_type": "execute_result",
          "data": {
            "text/plain": [
              "True"
            ]
          },
          "metadata": {},
          "execution_count": 29
        }
      ]
    },
    {
      "cell_type": "code",
      "source": [
        "criterion = torch.nn.CrossEntropyLoss()\n",
        "optimizer = torch.optim.Adam(\n",
        "    model.parameters(),\n",
        "    lr=INIT_LR,\n",
        ")\n",
        "early_stopping = EarlyStopping(min_delta=0.001, tolerance=10)"
      ],
      "metadata": {
        "id": "fbCB2Mvwt1Jd"
      },
      "execution_count": null,
      "outputs": []
    },
    {
      "cell_type": "code",
      "source": [
        "train_loss = []\n",
        "val_loss = []\n",
        "for epoch in range(EPOCH):\n",
        "  epoch_train_loss = train_one_epoch(model, trainLoader, criterion, optimizer, device)\n",
        "  train_loss.append(epoch_train_loss)\n",
        "\n",
        "  with torch.no_grad():\n",
        "    epoch_val_loss = val_one_epoch(model, valLoader, criterion, device)\n",
        "    val_loss.append(epoch_val_loss)\n",
        "\n",
        "  early_stopping(epoch_val_loss)\n",
        "  if early_stopping.flag:\n",
        "    print(f'early stop at epoch №{epoch}')\n",
        "    break\n",
        "torch.cuda.empty_cache() if device == 'cuda' else None"
      ],
      "metadata": {
        "colab": {
          "base_uri": "https://localhost:8080/"
        },
        "outputId": "3956fc10-2e69-4d58-a66e-edb43b4692d9",
        "id": "VbTia1tvt1Jd"
      },
      "execution_count": null,
      "outputs": [
        {
          "output_type": "stream",
          "name": "stderr",
          "text": [
            "C:\\Users\\user\\AppData\\Local\\Programs\\Python\\Python311\\Lib\\site-packages\\torch\\nn\\modules\\module.py:1518: UserWarning: Implicit dimension choice for log_softmax has been deprecated. Change the call to include dim=X as an argument.\n",
            "  return self._call_impl(*args, **kwargs)\n"
          ]
        },
        {
          "output_type": "stream",
          "name": "stdout",
          "text": [
            "counter = 1\n",
            "counter = 2\n",
            "counter = 3\n",
            "counter = 4\n",
            "counter = 5\n",
            "counter = 6\n",
            "counter = 7\n",
            "counter = 8\n",
            "counter = 9\n",
            "counter = 10\n",
            "early stop at epoch №15\n"
          ]
        }
      ]
    },
    {
      "cell_type": "code",
      "source": [
        "df = pd.DataFrame({'val_loss': [np.mean(x) for x in val_loss], 'train_loss': [np.mean(x) for x in train_loss]})\n",
        "df.plot(kind='line')"
      ],
      "metadata": {
        "colab": {
          "base_uri": "https://localhost:8080/",
          "height": 447
        },
        "outputId": "b1dc291b-4ed6-448f-8517-21d1f1c01112",
        "id": "UrvnKjU8t1Jd"
      },
      "execution_count": null,
      "outputs": [
        {
          "output_type": "execute_result",
          "data": {
            "text/plain": [
              "<Axes: >"
            ]
          },
          "metadata": {},
          "execution_count": 32
        },
        {
          "output_type": "display_data",
          "data": {
            "text/plain": [
              "<Figure size 640x480 with 1 Axes>"
            ],
            "image/png": "[encoded data removed]"
          },
          "metadata": {}
        }
      ]
    },
    {
      "cell_type": "code",
      "source": [
        "with torch.no_grad():\n",
        "    test_data = test_model(model, testLoader, device, [0, 1])\n",
        "torch.cuda.empty_cache() if device == 'cuda' else None"
      ],
      "metadata": {
        "colab": {
          "base_uri": "https://localhost:8080/"
        },
        "outputId": "d1b10e0f-c993-44fd-c6cf-586c1fbb5537",
        "id": "pvBuXUSSt1Jd"
      },
      "execution_count": null,
      "outputs": [
        {
          "output_type": "stream",
          "name": "stderr",
          "text": [
            "C:\\Users\\user\\AppData\\Local\\Programs\\Python\\Python311\\Lib\\site-packages\\torch\\nn\\modules\\module.py:1518: UserWarning: Implicit dimension choice for log_softmax has been deprecated. Change the call to include dim=X as an argument.\n",
            "  return self._call_impl(*args, **kwargs)\n"
          ]
        }
      ]
    },
    {
      "cell_type": "code",
      "source": [
        "overall_accuracy = test_data[1].item()/test_data[2]\n",
        "print(f'overall acc = {round(overall_accuracy*100,2)}%')"
      ],
      "metadata": {
        "colab": {
          "base_uri": "https://localhost:8080/"
        },
        "outputId": "f22fe68e-ff96-4718-b25f-65f53181ac6e",
        "id": "Y06CEEDwt1Jd"
      },
      "execution_count": null,
      "outputs": [
        {
          "output_type": "stream",
          "name": "stdout",
          "text": [
            "overall acc = 74.13%\n"
          ]
        }
      ]
    },
    {
      "cell_type": "code",
      "source": [
        "from seaborn import heatmap\n",
        "heatmap(test_data[0])"
      ],
      "metadata": {
        "colab": {
          "base_uri": "https://localhost:8080/",
          "height": 451
        },
        "outputId": "a831ca55-8abf-4bef-f20b-5d4adf7dacca",
        "id": "wQUy0kqvt1Jd"
      },
      "execution_count": null,
      "outputs": [
        {
          "output_type": "execute_result",
          "data": {
            "text/plain": [
              "<Axes: >"
            ]
          },
          "metadata": {},
          "execution_count": 36
        },
        {
          "output_type": "display_data",
          "data": {
            "text/plain": [
              "<Figure size 640x480 with 2 Axes>"
            ],
            "image/png": "[encoded data removed]"
          },
          "metadata": {}
        }
      ]
    }
  ]
}